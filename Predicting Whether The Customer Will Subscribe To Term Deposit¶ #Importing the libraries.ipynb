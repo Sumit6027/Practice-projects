{
 "cells": [
  {
   "cell_type": "markdown",
   "id": "daecbbe2",
   "metadata": {},
   "source": [
    "# Predicting Whether The Customer Will Subscribe To Term Deposit "
   ]
  },
  {
   "cell_type": "code",
   "execution_count": null,
   "id": "7f035da6",
   "metadata": {},
   "outputs": [],
   "source": [
    "#Importing the libraries\n",
    "import numpy as np\n",
    "import pandas as pd\n",
    "import matplotlib.pyplot as plt\n",
    "import seaborn as sns\n",
    "%matplotlib inline\n",
    "import warnings\n",
    "warnings.filterwarnings(\"ignore\")"
   ]
  },
  {
   "cell_type": "code",
   "execution_count": null,
   "id": "c258af11",
   "metadata": {},
   "outputs": [],
   "source": [
    "#Loading the data\n",
    "train = pd.read_csv(\"train.csv\")\n",
    "test = pd.read_csv(\"test.csv\")"
   ]
  },
  {
   "cell_type": "markdown",
   "id": "f1209ab7",
   "metadata": {},
   "source": [
    "Checking the columns of each dataset"
   ]
  },
  {
   "cell_type": "code",
   "execution_count": null,
   "id": "ba3e5e48",
   "metadata": {},
   "outputs": [],
   "source": [
    "train.columns"
   ]
  },
  {
   "cell_type": "markdown",
   "id": "a027af20",
   "metadata": {},
   "source": [
    "Index(['ID', 'age', 'job', 'marital', 'education', 'default', 'balance',\n",
    "       'housing', 'loan', 'contact', 'day', 'month', 'duration', 'campaign',\n",
    "       'pdays', 'previous', 'poutcome', 'subscribed'],\n",
    "      dtype='object')"
   ]
  },
  {
   "cell_type": "code",
   "execution_count": null,
   "id": "28e276b9",
   "metadata": {},
   "outputs": [],
   "source": [
    "test.columns"
   ]
  },
  {
   "cell_type": "markdown",
   "id": "f62caeea",
   "metadata": {},
   "source": [
    "Index(['ID', 'age', 'job', 'marital', 'education', 'default', 'balance',\n",
    "       'housing', 'loan', 'contact', 'day', 'month', 'duration', 'campaign',\n",
    "       'pdays', 'previous', 'poutcome'],\n",
    "      dtype='object')\n",
    "Hence, 'Subscribed' is the target variable.\n",
    "\n",
    "Checking the data types of the variables"
   ]
  },
  {
   "cell_type": "code",
   "execution_count": null,
   "id": "d83b6292",
   "metadata": {},
   "outputs": [],
   "source": [
    "train.info()"
   ]
  },
  {
   "cell_type": "code",
   "execution_count": null,
   "id": "4bc6d4c9",
   "metadata": {},
   "outputs": [],
   "source": [
    "<class 'pandas.core.frame.DataFrame'>\n",
    "RangeIndex: 31647 entries, 0 to 31646\n",
    "Data columns (total 18 columns):\n",
    " #   Column      Non-Null Count  Dtype \n",
    "---  ------      --------------  ----- \n",
    " 0   ID          31647 non-null  int64 \n",
    " 1   age         31647 non-null  int64 \n",
    " 2   job         31647 non-null  object\n",
    " 3   marital     31647 non-null  object\n",
    " 4   education   31647 non-null  object\n",
    " 5   default     31647 non-null  object\n",
    " 6   balance     31647 non-null  int64 \n",
    " 7   housing     31647 non-null  object\n",
    " 8   loan        31647 non-null  object\n",
    " 9   contact     31647 non-null  object\n",
    " 10  day         31647 non-null  int64 \n",
    " 11  month       31647 non-null  object\n",
    " 12  duration    31647 non-null  int64 \n",
    " 13  campaign    31647 non-null  int64 \n",
    " 14  pdays       31647 non-null  int64 \n",
    " 15  previous    31647 non-null  int64 \n",
    " 16  poutcome    31647 non-null  object\n",
    " 17  subscribed  31647 non-null  object\n",
    "dtypes: int64(8), object(10)\n",
    "memory usage: 3.1+ MB"
   ]
  },
  {
   "cell_type": "code",
   "execution_count": null,
   "id": "719f20a8",
   "metadata": {},
   "outputs": [],
   "source": [
    "test.info()"
   ]
  },
  {
   "cell_type": "markdown",
   "id": "769acb7c",
   "metadata": {},
   "source": [
    "<class 'pandas.core.frame.DataFrame'>\n",
    "RangeIndex: 13564 entries, 0 to 13563\n",
    "Data columns (total 17 columns):\n",
    "     # Column     Non-Null Count  Dtype \n",
    "---  ------     --------------  ----- \n",
    " 0   ID         13564 non-null  int64 \n",
    " 1   age        13564 non-null  int64 \n",
    " 2   job        13564 non-null  object\n",
    " 3   marital    13564 non-null  object\n",
    " 4   education  13564 non-null  object\n",
    " 5   default    13564 non-null  object\n",
    " 6   balance    13564 non-null  int64 \n",
    " 7   housing    13564 non-null  object\n",
    " 8   loan       13564 non-null  object\n",
    " 9   contact    13564 non-null  object\n",
    " 10  day        13564 non-null  int64 \n",
    " 11  month      13564 non-null  object\n",
    " 12  duration   13564 non-null  int64 \n",
    " 13  campaign   13564 non-null  int64 \n",
    " 14  pdays      13564 non-null  int64 \n",
    " 15  previous   13564 non-null  int64 \n",
    " 16  poutcome   13564 non-null  object\n",
    "dtypes: int64(8), object(9)\n",
    "memory usage: 1.3+ MB\n",
    "Checking the shapes of each dataset"
   ]
  },
  {
   "cell_type": "code",
   "execution_count": null,
   "id": "08c40b70",
   "metadata": {},
   "outputs": [],
   "source": [
    "train.shape"
   ]
  },
  {
   "cell_type": "markdown",
   "id": "e6ea7e40",
   "metadata": {},
   "source": [
    "(31647, 18)"
   ]
  },
  {
   "cell_type": "code",
   "execution_count": null,
   "id": "98b7898c",
   "metadata": {},
   "outputs": [],
   "source": [
    "test.shape"
   ]
  },
  {
   "cell_type": "markdown",
   "id": "3a22b2c5",
   "metadata": {},
   "source": [
    "(13564, 17)"
   ]
  },
  {
   "cell_type": "code",
   "execution_count": null,
   "id": "e9a80ae0",
   "metadata": {},
   "outputs": [],
   "source": [
    "Hence, we can see that we have 17 similar features in the both the dataset and 'Subscribed' is the variable that is to be predicted"
   ]
  },
  {
   "cell_type": "markdown",
   "id": "1b6ec371",
   "metadata": {},
   "source": [
    "# Data Exploration"
   ]
  },
  {
   "cell_type": "code",
   "execution_count": null,
   "id": "1ce43652",
   "metadata": {},
   "outputs": [],
   "source": [
    "#Printing the first 5 rows of the train dataset\n",
    "train.head()"
   ]
  },
  {
   "cell_type": "markdown",
   "id": "fb4e9b72",
   "metadata": {},
   "source": [
    "ID\tage\tjob\tmarital\teducation\tdefault\tbalance\thousing\tloan\tcontact\tday\tmonth\tduration\tcampaign\tpdays\tprevious\tpoutcome\tsubscribed\n",
    "0\t26110\t56\tadmin.\tmarried\tunknown\tno\t1933\tno\tno\ttelephone\t19\tnov\t44\t2\t-1\t0\tunknown\tno\n",
    "1\t40576\t31\tunknown\tmarried\tsecondary\tno\t3\tno\tno\tcellular\t20\tjul\t91\t2\t-1\t0\tunknown\tno\n",
    "2\t15320\t27\tservices\tmarried\tsecondary\tno\t891\tyes\tno\tcellular\t18\tjul\t240\t1\t-1\t0\tunknown\tno\n",
    "3\t43962\t57\tmanagement\tdivorced\ttertiary\tno\t3287\tno\tno\tcellular\t22\tjun\t867\t1\t84\t3\tsuccess\tyes\n",
    "4\t29842\t31\ttechnician\tmarried\tsecondary\tno\t119\tyes\tno\tcellular\t4\tfeb\t380\t1\t-1\t0\tunknown\tn"
   ]
  },
  {
   "cell_type": "code",
   "execution_count": null,
   "id": "ab36a585",
   "metadata": {},
   "outputs": [],
   "source": [
    "#Printing the first 5 rows of the test dataset\n",
    "test.head()"
   ]
  },
  {
   "cell_type": "markdown",
   "id": "47f834e4",
   "metadata": {},
   "source": [
    "ID\tage\tjob\tmarital\teducation\tdefault\tbalance\thousing\tloan\tcontact\tday\tmonth\tduration\tcampaign\tpdays\tprevious\tpoutcome\n",
    "0\t38441\t32\tservices\tmarried\tsecondary\tno\t118\tyes\tno\tcellular\t15\tmay\t20\t6\t-1\t0\tunknown\n",
    "1\t40403\t78\tretired\tdivorced\tprimary\tno\t2787\tno\tno\ttelephone\t1\tjul\t372\t1\t-1\t0\tunknown\n",
    "2\t3709\t31\tself-employed\tsingle\ttertiary\tno\t144\tyes\tno\tunknown\t16\tmay\t676\t1\t-1\t0\tunknown\n",
    "3\t37422\t57\tservices\tsingle\tprimary\tno\t3777\tyes\tno\ttelephone\t13\tmay\t65\t2\t-1\t0\tunknown\n",
    "4\t12527\t45\tblue-collar\tdivorced\tsecondary\tno\t-705\tno\tyes\tunknown\t3\tjul\t111\t1\t-1\t0\tunknown"
   ]
  },
  {
   "cell_type": "code",
   "execution_count": null,
   "id": "9dd2d313",
   "metadata": {},
   "outputs": [],
   "source": [
    "#checking for missing values in train dataset\n",
    "train.isnull().sum()"
   ]
  },
  {
   "cell_type": "code",
   "execution_count": null,
   "id": "b2775dc6",
   "metadata": {},
   "outputs": [],
   "source": [
    "ID            0\n",
    "age           0\n",
    "job           0\n",
    "marital       0\n",
    "education     0\n",
    "default       0\n",
    "balance       0\n",
    "housing       0\n",
    "loan          0\n",
    "contact       0\n",
    "day           0\n",
    "month         0\n",
    "duration      0\n",
    "campaign      0\n",
    "pdays         0\n",
    "previous      0\n",
    "poutcome      0\n",
    "subscribed    0\n",
    "dtype: int64"
   ]
  },
  {
   "cell_type": "code",
   "execution_count": null,
   "id": "5d703231",
   "metadata": {},
   "outputs": [],
   "source": [
    "#Checking for missing values in test dataset\n",
    "test.isnull().sum()"
   ]
  },
  {
   "cell_type": "markdown",
   "id": "abff1562",
   "metadata": {},
   "source": [
    "          \n",
    "age          0\n",
    "job          0\n",
    "marital      0\n",
    "education    0\n",
    "default      0\n",
    "balance      0\n",
    "housing      0\n",
    "loan         0\n",
    "contact      0\n",
    "day          0\n",
    "month        0\n",
    "duration     0\n",
    "campaign     0\n",
    "pdays        0\n",
    "previous     0\n",
    "poutcome     0\n",
    "dtype: int64"
   ]
  },
  {
   "cell_type": "markdown",
   "id": "457084ed",
   "metadata": {},
   "source": [
    "## Univariate Analysis "
   ]
  },
  {
   "cell_type": "markdown",
   "id": "35122054",
   "metadata": {},
   "source": [
    "### Analysis of 'Subscribed' variable "
   ]
  },
  {
   "cell_type": "code",
   "execution_count": null,
   "id": "359c340d",
   "metadata": {},
   "outputs": [],
   "source": [
    "#Frequency of 'subscribed'\n",
    "train['subscribed'].value_counts()"
   ]
  },
  {
   "cell_type": "markdown",
   "id": "7e14b560",
   "metadata": {},
   "source": [
    "no     27932\n",
    "yes     3715\n",
    "Name: subscribed, dtype: int64"
   ]
  },
  {
   "cell_type": "code",
   "execution_count": null,
   "id": "de1c8de4",
   "metadata": {},
   "outputs": [],
   "source": [
    "# Plotting the 'subscribed' frequency\n",
    "sns.countplot(data=train, x='subscribed')"
   ]
  },
  {
   "cell_type": "markdown",
   "id": "a2eb9643",
   "metadata": {},
   "source": [
    "<matplotlib.axes._subplots.AxesSubplot at 0x12508d78>\n"
   ]
  },
  {
   "cell_type": "code",
   "execution_count": null,
   "id": "3f23317d",
   "metadata": {},
   "outputs": [],
   "source": [
    "#Normalizing the frequency table of 'Subscribed' variable\n",
    "train['subscribed'].value_counts(normalize=True)"
   ]
  },
  {
   "cell_type": "code",
   "execution_count": null,
   "id": "98b6a816",
   "metadata": {},
   "outputs": [],
   "source": [
    "no     0.882611\n",
    "yes    0.117389\n",
    "Name: subscribed, dtype: float64\n",
    "From the above analysis we can see that only 3,715 people out of 31,647 have subscribed which is roughly 12%"
   ]
  },
  {
   "cell_type": "markdown",
   "id": "bf578fb5",
   "metadata": {},
   "source": [
    "### Analysing th 'Job' variable"
   ]
  },
  {
   "cell_type": "code",
   "execution_count": null,
   "id": "32bf4521",
   "metadata": {},
   "outputs": [],
   "source": [
    "#Frequency table\n",
    "train['job'].value_counts()"
   ]
  },
  {
   "cell_type": "code",
   "execution_count": null,
   "id": "9aece908",
   "metadata": {},
   "outputs": [],
   "source": [
    "blue-collar      6842\n",
    "management       6639\n",
    "technician       5307\n",
    "admin.           3631\n",
    "services         2903\n",
    "retired          1574\n",
    "self-employed    1123\n",
    "entrepreneur     1008\n",
    "unemployed        905\n",
    "housemaid         874\n",
    "student           635\n",
    "unknown           206\n",
    "Name: job, dtype: int64"
   ]
  },
  {
   "cell_type": "code",
   "execution_count": null,
   "id": "0f1f9abd",
   "metadata": {},
   "outputs": [],
   "source": [
    "# Plotting the job frequency table\n",
    "sns.set_context('paper')\n",
    "train['job'].value_counts().plot(kind='bar', figsize=(10,6));"
   ]
  },
  {
   "cell_type": "code",
   "execution_count": null,
   "id": "36baf963",
   "metadata": {},
   "outputs": [],
   "source": [
    "We can see that most of the clients beloned to blue-collar job and students are least in general as they don't make term deposits in general."
   ]
  },
  {
   "cell_type": "markdown",
   "id": "e3d75811",
   "metadata": {},
   "source": [
    "### Analysis of 'marital' status "
   ]
  },
  {
   "cell_type": "code",
   "execution_count": null,
   "id": "dbcd45a5",
   "metadata": {},
   "outputs": [],
   "source": [
    "train['marital'].value_counts()"
   ]
  },
  {
   "cell_type": "markdown",
   "id": "86cdd26a",
   "metadata": {},
   "source": [
    "married     19095\n",
    "single       8922\n",
    "divorced     3630\n",
    "Name: marital, dtype: int64"
   ]
  },
  {
   "cell_type": "code",
   "execution_count": null,
   "id": "9199be02",
   "metadata": {},
   "outputs": [],
   "source": [
    "sns.countplot(data=train, x='marital');"
   ]
  },
  {
   "cell_type": "code",
   "execution_count": null,
   "id": "11bd6800",
   "metadata": {},
   "outputs": [],
   "source": [
    "sns.countplot(data=train, x='marital', hue='subscribed');"
   ]
  },
  {
   "cell_type": "markdown",
   "id": "fcc8295e",
   "metadata": {},
   "source": [
    "## Analyzing the 'age' variable"
   ]
  },
  {
   "cell_type": "code",
   "execution_count": null,
   "id": "cf8d6232",
   "metadata": {},
   "outputs": [],
   "source": [
    "sns.distplot(train['age']);"
   ]
  },
  {
   "cell_type": "markdown",
   "id": "28fdbc83",
   "metadata": {},
   "source": [
    "We can infer that most of the clients fall in the age group between 20-60."
   ]
  },
  {
   "cell_type": "markdown",
   "id": "d0520bd9",
   "metadata": {},
   "source": [
    "## Bivariate Analysis"
   ]
  },
  {
   "cell_type": "code",
   "execution_count": null,
   "id": "2a177b6a",
   "metadata": {},
   "outputs": [],
   "source": [
    "#job vs subscribed\n",
    "print(pd.crosstab(train['job'],train['subscribed']))"
   ]
  },
  {
   "cell_type": "markdown",
   "id": "50601ad1",
   "metadata": {},
   "source": [
    "subscribed       no  yes\n",
    "job                     \n",
    "admin.         3179  452\n",
    "blue-collar    6353  489\n",
    "entrepreneur    923   85\n",
    "housemaid       795   79\n",
    "management     5716  923\n",
    "retired        1212  362\n",
    "self-employed   983  140\n",
    "services       2649  254\n",
    "student         453  182\n",
    "technician     4713  594\n",
    "unemployed      776  129\n",
    "unknown         180   26"
   ]
  },
  {
   "cell_type": "markdown",
   "id": "c5bdf2df",
   "metadata": {},
   "source": [
    "job = pd.crosstab(train['job'],train['subscribed'])\n",
    "job_norm = job.div(job.sum(1).astype(float), axis=0)"
   ]
  },
  {
   "cell_type": "code",
   "execution_count": null,
   "id": "09511448",
   "metadata": {},
   "outputs": [],
   "source": [
    "job_norm.plot.bar(stacked=True,figsize=(8,6));"
   ]
  },
  {
   "cell_type": "code",
   "execution_count": null,
   "id": "aec91cce",
   "metadata": {},
   "outputs": [],
   "source": [
    "From the above graph we can infer that students and retired people have higher chances of subscribing to a term deposit, which is surprising as students generally do not subscribe to a term deposit. The possible reason is that the number of students in the dataset is less and comparatively to other job types, more students have subscribed to a term deposit."
   ]
  },
  {
   "cell_type": "code",
   "execution_count": null,
   "id": "44ea7dae",
   "metadata": {},
   "outputs": [],
   "source": [
    "#Marital status vs subscribed\n",
    "pd.crosstab(train['marital'], train['subscribed'])"
   ]
  },
  {
   "cell_type": "markdown",
   "id": "14839fbc",
   "metadata": {},
   "source": [
    "subscribed\tno\tyes\n",
    "marital\t\t\n",
    "divorced\t3185\t445\n",
    "married\t17176\t1919\n",
    "single\t7571\t1351"
   ]
  },
  {
   "cell_type": "code",
   "execution_count": null,
   "id": "68372133",
   "metadata": {},
   "outputs": [],
   "source": [
    "marital = pd.crosstab(train['marital'], train['subscribed'])\n",
    "marital_norm = marital.div(marital.sum(1).astype(float), axis=0)\n",
    "marital_norm"
   ]
  },
  {
   "cell_type": "code",
   "execution_count": null,
   "id": "97427822",
   "metadata": {},
   "outputs": [],
   "source": [
    "subscribed\tno\tyes\n",
    "marital\t\t\n",
    "divorced\t0.877410\t0.122590\n",
    "married\t0.899502\t0.100498\n",
    "single\t0.848577\t0.151423"
   ]
  },
  {
   "cell_type": "code",
   "execution_count": null,
   "id": "0441650e",
   "metadata": {},
   "outputs": [],
   "source": [
    "marital_norm.plot.bar(stacked=True, figsize=(10,6));"
   ]
  },
  {
   "cell_type": "markdown",
   "id": "6fcabf21",
   "metadata": {},
   "source": [
    "From the above analysis we can infer that marital status doesn't have a major impact on the subscription to term deposits."
   ]
  },
  {
   "cell_type": "code",
   "execution_count": null,
   "id": "854d41f9",
   "metadata": {},
   "outputs": [],
   "source": [
    "#default vs subscription\n",
    "pd.crosstab(train['default'], train['subscribed'])"
   ]
  },
  {
   "cell_type": "markdown",
   "id": "ed84be05",
   "metadata": {},
   "source": [
    "subscribed\tno\tyes\n",
    "default\t\t\n",
    "no\t27388\t3674\n",
    "yes\t544\t41"
   ]
  },
  {
   "cell_type": "code",
   "execution_count": null,
   "id": "2884fb2e",
   "metadata": {},
   "outputs": [],
   "source": [
    "dflt = pd.crosstab(train['default'], train['subscribed'])\n",
    "dflt_norm = dflt.div(dflt.sum(1).astype(float), axis=0)\n",
    "dflt_norm"
   ]
  },
  {
   "cell_type": "markdown",
   "id": "a9715385",
   "metadata": {},
   "source": [
    "subscribed\tno\tyes\n",
    "default\t\t\n",
    "no\t0.881720\t0.118280\n",
    "yes\t0.929915\t0.070085"
   ]
  },
  {
   "cell_type": "code",
   "execution_count": null,
   "id": "91b12779",
   "metadata": {},
   "outputs": [],
   "source": [
    "dflt_norm.plot.bar(stacked=True, figsize=(6,6))"
   ]
  },
  {
   "cell_type": "markdown",
   "id": "e851ceae",
   "metadata": {},
   "source": [
    "<matplotlib.axes._subplots.AxesSubplot at 0x13d08f70>\n",
    "\n",
    "We can infer that clients having no previous default have slightly higher chances of subscribing to a term loan as compared to the clients who have previous default history."
   ]
  },
  {
   "cell_type": "code",
   "execution_count": null,
   "id": "21d89aca",
   "metadata": {},
   "outputs": [],
   "source": [
    "# Converting the target variables into 0s and 1s\n",
    "train['subscribed'].replace('no', 0,inplace=True)\n",
    "train['subscribed'].replace('yes', 1,inplace=True)"
   ]
  },
  {
   "cell_type": "code",
   "execution_count": null,
   "id": "c4afe865",
   "metadata": {},
   "outputs": [],
   "source": [
    "train['subscribed']"
   ]
  },
  {
   "cell_type": "markdown",
   "id": "96af4388",
   "metadata": {},
   "source": [
    "0        0\n",
    "1        0\n",
    "2        0\n",
    "3        1\n",
    "4        0\n",
    "        ..\n",
    "31642    0\n",
    "31643    1\n",
    "31644    0\n",
    "31645    0\n",
    "31646    1\n",
    "Name: subscribed, Length: 31647, dtype: int64"
   ]
  },
  {
   "cell_type": "code",
   "execution_count": null,
   "id": "e89304ed",
   "metadata": {},
   "outputs": [],
   "source": [
    "#Correlation matrix\n",
    "tc = train.corr()\n",
    "tc"
   ]
  },
  {
   "cell_type": "markdown",
   "id": "9fd6a778",
   "metadata": {},
   "source": [
    "ID\tage\tbalance\tday\tduration\tcampaign\tpdays\tprevious\tsubscribed\n",
    "ID\t1.000000\t0.013337\t0.067897\t-0.063399\t0.007183\t-0.103508\t0.436148\t0.254476\t0.296663\n",
    "age\t0.013337\t1.000000\t0.103245\t-0.011056\t-0.003870\t0.005733\t-0.021947\t0.005761\t0.024538\n",
    "balance\t0.067897\t0.103245\t1.000000\t0.003461\t0.024274\t-0.012032\t0.001789\t0.013843\t0.050807\n",
    "day\t-0.063399\t-0.011056\t0.003461\t1.000000\t-0.032288\t0.159168\t-0.087626\t-0.048752\t-0.029600\n",
    "duration\t0.007183\t-0.003870\t0.024274\t-0.032288\t1.000000\t-0.080305\t0.000529\t0.001783\t0.389838\n",
    "campaign\t-0.103508\t0.005733\t-0.012032\t0.159168\t-0.080305\t1.000000\t-0.087570\t-0.033151\t-0.070607\n",
    "pdays\t0.436148\t-0.021947\t0.001789\t-0.087626\t0.000529\t-0.087570\t1.000000\t0.428938\t0.108290\n",
    "previous\t0.254476\t0.005761\t0.013843\t-0.048752\t0.001783\t-0.033151\t0.428938\t1.000000\t0.088081\n",
    "subscribed\t0.296663\t0.024538\t0.050807\t-0.029600\t0.389838\t-0.070607\t0.108290\t0.088081\t1.000000"
   ]
  },
  {
   "cell_type": "code",
   "execution_count": null,
   "id": "c4548713",
   "metadata": {},
   "outputs": [],
   "source": [
    "fig,ax= plt.subplots()\n",
    "fig.set_size_inches(20,10)\n",
    "sns.heatmap(tc, annot=True, cmap='YlGnBu')"
   ]
  },
  {
   "cell_type": "markdown",
   "id": "4619b612",
   "metadata": {},
   "source": [
    "<matplotlib.axes._subplots.AxesSubplot at 0x13d46958>\n",
    "\n",
    "We can infer that duration of the call is highly correlated with the target variable. As the duration of the call is more, there are higher chances that the client is showing interest in the term deposit and hence there are higher chances that the client will subscribe to term deposit."
   ]
  },
  {
   "cell_type": "markdown",
   "id": "4fc689c6",
   "metadata": {},
   "source": [
    "## Model Building"
   ]
  },
  {
   "cell_type": "code",
   "execution_count": null,
   "id": "f66fff9b",
   "metadata": {},
   "outputs": [],
   "source": [
    "target = train['subscribed']\n",
    "train = train.drop('subscribed', axis=1)"
   ]
  },
  {
   "cell_type": "code",
   "execution_count": null,
   "id": "64d2e9e0",
   "metadata": {},
   "outputs": [],
   "source": [
    "#generating dummy values on the train dataset\n",
    "train = pd.get_dummies(train)\n",
    "train.head()"
   ]
  },
  {
   "cell_type": "markdown",
   "id": "7b8c9f71",
   "metadata": {},
   "source": [
    "\tID\tage\tbalance\tday\tduration\tcampaign\tpdays\tprevious\tjob_admin.\tjob_blue-collar\t...\tmonth_jun\tmonth_mar\tmonth_may\tmonth_nov\tmonth_oct\tmonth_sep\tpoutcome_failure\tpoutcome_other\tpoutcome_success\tpoutcome_unknown\n",
    "0\t26110\t56\t1933\t19\t44\t2\t-1\t0\t1\t0\t...\t0\t0\t0\t1\t0\t0\t0\t0\t0\t1\n",
    "1\t40576\t31\t3\t20\t91\t2\t-1\t0\t0\t0\t...\t0\t0\t0\t0\t0\t0\t0\t0\t0\t1\n",
    "2\t15320\t27\t891\t18\t240\t1\t-1\t0\t0\t0\t...\t0\t0\t0\t0\t0\t0\t0\t0\t0\t1\n",
    "3\t43962\t57\t3287\t22\t867\t1\t84\t3\t0\t0\t...\t1\t0\t0\t0\t0\t0\t0\t0\t1\t0\n",
    "4\t29842\t31\t119\t4\t380\t1\t-1\t0\t0\t0\t...\t0\t0\t0\t0\t0\t0\t0\t0\t0\t1\n",
    "5 rows × 52 columns\n",
    "\n",
    "Splitting the data into train and validation set such as to validate the results of our model on the validation set. keeping 20% of the dataset as our validation set and the rest as our training set."
   ]
  },
  {
   "cell_type": "code",
   "execution_count": null,
   "id": "e08c768f",
   "metadata": {},
   "outputs": [],
   "source": [
    "from sklearn.model_selection import train_test_split"
   ]
  },
  {
   "cell_type": "code",
   "execution_count": null,
   "id": "ec4b4ca0",
   "metadata": {},
   "outputs": [],
   "source": [
    "X_train, X_val, y_train, y_val = train_test_split(train, target, test_size=0.2, random_state=12)"
   ]
  },
  {
   "cell_type": "markdown",
   "id": "10339cf6",
   "metadata": {},
   "source": [
    "Now our data is ready and it's time to build our model and check its performance. Since it's a classification problem, I'll be using Logistic Regression model for this problem."
   ]
  },
  {
   "cell_type": "markdown",
   "id": "c88b884b",
   "metadata": {},
   "source": [
    "## Logistic Regression"
   ]
  },
  {
   "cell_type": "code",
   "execution_count": null,
   "id": "0e5f121a",
   "metadata": {},
   "outputs": [],
   "source": [
    "from sklearn.linear_model import LogisticRegression"
   ]
  },
  {
   "cell_type": "code",
   "execution_count": null,
   "id": "713f8021",
   "metadata": {},
   "outputs": [],
   "source": [
    "#creating an object of logistic regression model\n",
    "lreg = LogisticRegression()\n"
   ]
  },
  {
   "cell_type": "code",
   "execution_count": null,
   "id": "19b31b2c",
   "metadata": {},
   "outputs": [],
   "source": [
    "#fitting the data into the model\n",
    "lreg.fit(X_train,y_train)"
   ]
  },
  {
   "cell_type": "code",
   "execution_count": null,
   "id": "ce875359",
   "metadata": {},
   "outputs": [],
   "source": [
    "LogisticRegression()"
   ]
  },
  {
   "cell_type": "code",
   "execution_count": null,
   "id": "122e33fb",
   "metadata": {},
   "outputs": [],
   "source": [
    "#Making predictions on the validation set\n",
    "pred = lreg.predict(X_val)"
   ]
  },
  {
   "cell_type": "markdown",
   "id": "aa25ae6d",
   "metadata": {},
   "source": [
    "Checking the accuracy of our model"
   ]
  },
  {
   "cell_type": "code",
   "execution_count": null,
   "id": "cc9075cf",
   "metadata": {},
   "outputs": [],
   "source": [
    "from sklearn.metrics import accuracy_score_score"
   ]
  },
  {
   "cell_type": "code",
   "execution_count": null,
   "id": "a8983b64",
   "metadata": {},
   "outputs": [],
   "source": [
    "#Calculating the accuracy score\n",
    "accuracy_score(y_val,pred)"
   ]
  },
  {
   "cell_type": "markdown",
   "id": "3db6b10b",
   "metadata": {},
   "source": [
    "0.8894154818325435\n",
    "We got an accuracy score of around 89% on the validation dataset. Logistic regression has a linear decision boundary. What if our data have non linearity? We need a model that can capture this non linearity.\n",
    "\n",
    "Using Decision Tree algorithm to for dealing with non-linearity"
   ]
  },
  {
   "cell_type": "markdown",
   "id": "dad9730d",
   "metadata": {},
   "source": [
    "## Decision Tree"
   ]
  },
  {
   "cell_type": "code",
   "execution_count": null,
   "id": "1c1e63d0",
   "metadata": {},
   "outputs": [],
   "source": [
    "from sklearn.tree import DecisionTreeClassifier"
   ]
  },
  {
   "cell_type": "code",
   "execution_count": null,
   "id": "978079a9",
   "metadata": {},
   "outputs": [],
   "source": [
    "#creating an object of Decision tree\n",
    "clf = DecisionTreeClassifier(max_depth=4, random_state=0)"
   ]
  },
  {
   "cell_type": "code",
   "execution_count": null,
   "id": "31241aa2",
   "metadata": {},
   "outputs": [],
   "source": [
    "#fitting the model\n",
    "clf.fit(X_train, y_train)"
   ]
  },
  {
   "cell_type": "markdown",
   "id": "d7558050",
   "metadata": {},
   "source": [
    "DecisionTreeClassifier(max_depth=4, random_state=0)"
   ]
  },
  {
   "cell_type": "code",
   "execution_count": null,
   "id": "a493736f",
   "metadata": {},
   "outputs": [],
   "source": [
    "#making predictions on the validation set\n",
    "predict = clf.predict(X_val)\n",
    "predict"
   ]
  },
  {
   "cell_type": "markdown",
   "id": "fafff580",
   "metadata": {},
   "source": [
    "array([0, 0, 0, ..., 1, 0, 0], dtype=int64)"
   ]
  },
  {
   "cell_type": "code",
   "execution_count": null,
   "id": "47518bb3",
   "metadata": {},
   "outputs": [],
   "source": [
    "#Calculating the accuracy\n",
    "accuracy_score(y_val,predict)"
   ]
  },
  {
   "cell_type": "markdown",
   "id": "69cbfc13",
   "metadata": {},
   "source": [
    "0.9042654028436019\n",
    "We got an accuracy of more than 90% on the validation set.\n",
    "\n",
    "Let's now make the prediction on test dataset"
   ]
  },
  {
   "cell_type": "code",
   "execution_count": null,
   "id": "e280f60e",
   "metadata": {},
   "outputs": [],
   "source": [
    "test = pd.get_dummies(test)\n",
    "test.head()"
   ]
  },
  {
   "cell_type": "markdown",
   "id": "ae508faf",
   "metadata": {},
   "source": [
    "ID\tage\tbalance\tday\tduration\tcampaign\tpdays\tprevious\tjob_admin.\tjob_blue-collar\t...\tmonth_jun\tmonth_mar\tmonth_may\tmonth_nov\tmonth_oct\tmonth_sep\tpoutcome_failure\tpoutcome_other\tpoutcome_success\tpoutcome_unknown\n",
    "0\t38441\t32\t118\t15\t20\t6\t-1\t0\t0\t0\t...\t0\t0\t1\t0\t0\t0\t0\t0\t0\t1\n",
    "1\t40403\t78\t2787\t1\t372\t1\t-1\t0\t0\t0\t...\t0\t0\t0\t0\t0\t0\t0\t0\t0\t1\n",
    "2\t3709\t31\t144\t16\t676\t1\t-1\t0\t0\t0\t...\t0\t0\t1\t0\t0\t0\t0\t0\t0\t1\n",
    "3\t37422\t57\t3777\t13\t65\t2\t-1\t0\t0\t0\t...\t0\t0\t1\t0\t0\t0\t0\t0\t0\t1\n",
    "4\t12527\t45\t-705\t3\t111\t1\t-1\t0\t0\t1\t...\t0\t0\t0\t0\t0\t0\t0\t0\t0\t1\n",
    "5 rows × 52 columns"
   ]
  },
  {
   "cell_type": "code",
   "execution_count": null,
   "id": "7a2b22e2",
   "metadata": {},
   "outputs": [],
   "source": [
    "test_pred = clf.predict(test)\n",
    "test_pred"
   ]
  },
  {
   "cell_type": "markdown",
   "id": "9993fc52",
   "metadata": {},
   "source": [
    "array([0, 1, 0, ..., 0, 1, 0], dtype=int64)\n",
    "Finally, we will save these predictions into a csv file."
   ]
  },
  {
   "cell_type": "code",
   "execution_count": null,
   "id": "35411042",
   "metadata": {},
   "outputs": [],
   "source": [
    "submissions = pd.DataFrame()"
   ]
  },
  {
   "cell_type": "code",
   "execution_count": null,
   "id": "7d347d53",
   "metadata": {},
   "outputs": [],
   "source": [
    "submissions['ID'] = test['ID']\n",
    "submissions['subscribed'] = test_pred"
   ]
  },
  {
   "cell_type": "code",
   "execution_count": null,
   "id": "284c3b80",
   "metadata": {},
   "outputs": [],
   "source": [
    "submissions['subscribed']"
   ]
  },
  {
   "cell_type": "markdown",
   "id": "1cc01dfa",
   "metadata": {},
   "source": [
    "0        0\n",
    "1        1\n",
    "2        0\n",
    "3        0\n",
    "4        0\n",
    "        ..\n",
    "13559    0\n",
    "13560    0\n",
    "13561    0\n",
    "13562    1\n",
    "13563    0\n",
    "Name: subscribed, Length: 13564, dtype: int64\n",
    "Since the target variable is yes or no, we will convert 1 and 0 in the predictions to yes and no respectively"
   ]
  },
  {
   "cell_type": "code",
   "execution_count": null,
   "id": "98268276",
   "metadata": {},
   "outputs": [],
   "source": [
    "submissions['subscribed'].replace(0,'no',inplace=True)\n",
    "submissions['subscribed'].replace(1,'yes',inplace=True)"
   ]
  },
  {
   "cell_type": "code",
   "execution_count": null,
   "id": "2e2962f6",
   "metadata": {},
   "outputs": [],
   "source": [
    "submissions['subscribed']"
   ]
  },
  {
   "cell_type": "code",
   "execution_count": null,
   "id": "36563435",
   "metadata": {},
   "outputs": [],
   "source": [
    "0         no\n",
    "1        yes\n",
    "2         no\n",
    "3         no\n",
    "4         no\n",
    "        ... \n",
    "13559     no\n",
    "13560     no\n",
    "13561     no\n",
    "13562    yes\n",
    "13563     no\n",
    "Name: subscribed, Length: 13564, dtype: object"
   ]
  },
  {
   "cell_type": "code",
   "execution_count": null,
   "id": "9b22f2aa",
   "metadata": {},
   "outputs": [],
   "source": [
    "submissions.to_csv('submission file.csv', header=True, index=False)"
   ]
  }
 ],
 "metadata": {
  "kernelspec": {
   "display_name": "Python 3 (ipykernel)",
   "language": "python",
   "name": "python3"
  },
  "language_info": {
   "codemirror_mode": {
    "name": "ipython",
    "version": 3
   },
   "file_extension": ".py",
   "mimetype": "text/x-python",
   "name": "python",
   "nbconvert_exporter": "python",
   "pygments_lexer": "ipython3",
   "version": "3.9.12"
  }
 },
 "nbformat": 4,
 "nbformat_minor": 5
}
