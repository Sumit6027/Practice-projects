{
 "cells": [
  {
   "cell_type": "markdown",
   "id": "a58f261d",
   "metadata": {},
   "source": [
    "# UCI Glass Detection Dataset"
   ]
  },
  {
   "cell_type": "markdown",
   "id": "20c4ece0",
   "metadata": {},
   "source": [
    "## Outline"
   ]
  },
  {
   "cell_type": "code",
   "execution_count": null,
   "id": "8cbb9045",
   "metadata": {},
   "outputs": [],
   "source": [
    "Importing libraries\n",
    "Importing Dataset\n",
    "Exploring Dataset\n",
    "Preparing Dataset\n",
    "Removing Outliers\n",
    "Visualization of dataset\n",
    "Train/Test Split\n",
    "Applying Machine Learning Models\n",
    "Summary\n",
    "Method 2 to solve dataset"
   ]
  },
  {
   "cell_type": "markdown",
   "id": "de93cc36",
   "metadata": {},
   "source": [
    "## Machine Learning Models that are applied:"
   ]
  },
  {
   "cell_type": "code",
   "execution_count": null,
   "id": "adb4707f",
   "metadata": {},
   "outputs": [],
   "source": [
    "KNN\n",
    "Logistic Regression\n",
    "Decision Tree\n",
    "SVM (Linear Kernal)\n",
    "SVM (Non Linear Kernal)\n",
    "Random Forest\n",
    "Neural Network\n",
    "Gradient Decent Tree Boosting"
   ]
  },
  {
   "cell_type": "markdown",
   "id": "6bae7389",
   "metadata": {},
   "source": [
    "## Importing Libraries"
   ]
  },
  {
   "cell_type": "code",
   "execution_count": null,
   "id": "c68e14d8",
   "metadata": {},
   "outputs": [],
   "source": [
    "import pandas as pd\n",
    "import numpy as np\n",
    "#import seaborn as sns"
   ]
  },
  {
   "cell_type": "markdown",
   "id": "df847e32",
   "metadata": {},
   "source": [
    "## Importing Dataset"
   ]
  },
  {
   "cell_type": "code",
   "execution_count": null,
   "id": "fa3ca604",
   "metadata": {},
   "outputs": [],
   "source": [
    "url = 'https://archive.ics.uci.edu/ml/machine-learning-databases/glass/glass.data'\n",
    "data = pd.read_csv(url, header=None)\n",
    "data.head()"
   ]
  },
  {
   "cell_type": "markdown",
   "id": "8e5a6166",
   "metadata": {},
   "source": [
    "\t0\t1\t2\t3\t4\t5\t6\t7\t8\t9\t10\n",
    "0\t1\t1.52101\t13.64\t4.49\t1.10\t71.78\t0.06\t8.75\t0.0\t0.0\t1\n",
    "1\t2\t1.51761\t13.89\t3.60\t1.36\t72.73\t0.48\t7.83\t0.0\t0.0\t1\n",
    "2\t3\t1.51618\t13.53\t3.55\t1.54\t72.99\t0.39\t7.78\t0.0\t0.0\t1\n",
    "3\t4\t1.51766\t13.21\t3.69\t1.29\t72.61\t0.57\t8.22\t0.0\t0.0\t1\n",
    "4\t5\t1.51742\t13.27\t3.62\t1.24\t73.08\t0.55\t8.07\t0.0\t0.0\t1"
   ]
  },
  {
   "cell_type": "markdown",
   "id": "895033f7",
   "metadata": {},
   "source": [
    "## Exploring Dataset"
   ]
  },
  {
   "cell_type": "code",
   "execution_count": null,
   "id": "01131a61",
   "metadata": {},
   "outputs": [],
   "source": [
    "1.Shape of dataset\n",
    "2.Count of Null values\n",
    "3.Uniques values\n",
    "4.Statisitics of dataset"
   ]
  },
  {
   "cell_type": "code",
   "execution_count": null,
   "id": "569470c9",
   "metadata": {},
   "outputs": [],
   "source": [
    "data.shape"
   ]
  },
  {
   "cell_type": "markdown",
   "id": "1d82878b",
   "metadata": {},
   "source": [
    "(214, 11)"
   ]
  },
  {
   "cell_type": "code",
   "execution_count": null,
   "id": "5b4e412f",
   "metadata": {},
   "outputs": [],
   "source": [
    "data.isnull().sum()"
   ]
  },
  {
   "cell_type": "markdown",
   "id": "74243f3c",
   "metadata": {},
   "source": [
    "0     0\n",
    "1     0\n",
    "2     0\n",
    "3     0\n",
    "4     0\n",
    "5     0\n",
    "6     0\n",
    "7     0\n",
    "8     0\n",
    "9     0\n",
    "10    0\n",
    "dtype: int64"
   ]
  },
  {
   "cell_type": "code",
   "execution_count": null,
   "id": "0b3c67e6",
   "metadata": {},
   "outputs": [],
   "source": [
    "data[10].value_counts()"
   ]
  },
  {
   "cell_type": "markdown",
   "id": "4e5b27d6",
   "metadata": {},
   "source": [
    "2    76\n",
    "1    70\n",
    "7    29\n",
    "3    17\n",
    "5    13\n",
    "6     9\n",
    "Name: 10, dtype: int64"
   ]
  },
  {
   "cell_type": "code",
   "execution_count": null,
   "id": "4bcd7c06",
   "metadata": {},
   "outputs": [],
   "source": [
    "data.describe()"
   ]
  },
  {
   "cell_type": "markdown",
   "id": "d7cc571b",
   "metadata": {},
   "source": [
    "0\t1\t2\t3\t4\t5\t6\t7\t8\t9\t10\n",
    "count\t214.000000\t214.000000\t214.000000\t214.000000\t214.000000\t214.000000\t214.000000\t214.000000\t214.000000\t214.000000\t214.000000\n",
    "mean\t107.500000\t1.518365\t13.407850\t2.684533\t1.444907\t72.650935\t0.497056\t8.956963\t0.175047\t0.057009\t2.780374\n",
    "std\t61.920648\t0.003037\t0.816604\t1.442408\t0.499270\t0.774546\t0.652192\t1.423153\t0.497219\t0.097439\t2.103739\n",
    "min\t1.000000\t1.511150\t10.730000\t0.000000\t0.290000\t69.810000\t0.000000\t5.430000\t0.000000\t0.000000\t1.000000\n",
    "25%\t54.250000\t1.516523\t12.907500\t2.115000\t1.190000\t72.280000\t0.122500\t8.240000\t0.000000\t0.000000\t1.000000\n",
    "50%\t107.500000\t1.517680\t13.300000\t3.480000\t1.360000\t72.790000\t0.555000\t8.600000\t0.000000\t0.000000\t2.000000\n",
    "75%\t160.750000\t1.519157\t13.825000\t3.600000\t1.630000\t73.087500\t0.610000\t9.172500\t0.000000\t0.100000\t3.000000\n",
    "max\t214.000000\t1.533930\t17.380000\t4.490000\t3.500000\t75.410000\t6.210000\t16.190000\t3.150000\t0.510000\t7.000000"
   ]
  },
  {
   "cell_type": "markdown",
   "id": "d3fcb202",
   "metadata": {},
   "source": [
    "#### Above statistics shows that data is across all attributes is not in same range, so we will normalize the data first"
   ]
  },
  {
   "cell_type": "markdown",
   "id": "2841f2b4",
   "metadata": {},
   "source": [
    "## Preparing Dataset"
   ]
  },
  {
   "cell_type": "markdown",
   "id": "1d5cc2b6",
   "metadata": {},
   "source": [
    "### Adding meaningful column/attribute names "
   ]
  },
  {
   "cell_type": "code",
   "execution_count": null,
   "id": "2ac364f7",
   "metadata": {},
   "outputs": [],
   "source": [
    "names = ['Id','RI','Na','Mg','Al','Si','K','Ca','Ba','Fe','glass_type']\n",
    "data.columns = names\n",
    "data.head()"
   ]
  },
  {
   "cell_type": "markdown",
   "id": "eb75d67a",
   "metadata": {},
   "source": [
    "\tId\tRI\tNa\tMg\tAl\tSi\tK\tCa\tBa\tFe\tglass_type\n",
    "0\t1\t1.52101\t13.64\t4.49\t1.10\t71.78\t0.06\t8.75\t0.0\t0.0\t1\n",
    "1\t2\t1.51761\t13.89\t3.60\t1.36\t72.73\t0.48\t7.83\t0.0\t0.0\t1\n",
    "2\t3\t1.51618\t13.53\t3.55\t1.54\t72.99\t0.39\t7.78\t0.0\t0.0\t1\n",
    "3\t4\t1.51766\t13.21\t3.69\t1.29\t72.61\t0.57\t8.22\t0.0\t0.0\t1\n",
    "4\t5\t1.51742\t13.27\t3.62\t1.24\t73.08\t0.55\t8.07\t0.0\t0.0\t1"
   ]
  },
  {
   "cell_type": "code",
   "execution_count": null,
   "id": "b95244f9",
   "metadata": {},
   "outputs": [],
   "source": [
    "Removing unnecessary columns"
   ]
  },
  {
   "cell_type": "code",
   "execution_count": null,
   "id": "5ee42493",
   "metadata": {},
   "outputs": [],
   "source": [
    "data = data.drop('Id',1)"
   ]
  },
  {
   "cell_type": "code",
   "execution_count": null,
   "id": "e483d2e6",
   "metadata": {},
   "outputs": [],
   "source": [
    "data.head(3)"
   ]
  },
  {
   "cell_type": "markdown",
   "id": "ef91103c",
   "metadata": {},
   "source": [
    "RI\tNa\tMg\tAl\tSi\tK\tCa\tBa\tFe\tglass_type\n",
    "0\t1.52101\t13.64\t4.49\t1.10\t71.78\t0.06\t8.75\t0.0\t0.0\t1\n",
    "1\t1.51761\t13.89\t3.60\t1.36\t72.73\t0.48\t7.83\t0.0\t0.0\t1\n",
    "2\t1.51618\t13.53\t3.55\t1.54\t72.99\t0.39\t7.78\t0.0\t0.0\t1"
   ]
  },
  {
   "cell_type": "markdown",
   "id": "4f8d1a84",
   "metadata": {},
   "source": [
    "## Checking outlies through Z-score"
   ]
  },
  {
   "cell_type": "code",
   "execution_count": null,
   "id": "3c2d064c",
   "metadata": {},
   "outputs": [],
   "source": [
    "from scipy import stats\n",
    "\n",
    "z = abs(stats.zscore(data))\n",
    "\n",
    "#np.where(z > 3)\n",
    "\n",
    "data = data[(z < 3).all(axis=1)]\n",
    "\n",
    "#data.shape"
   ]
  },
  {
   "cell_type": "markdown",
   "id": "2c2da13a",
   "metadata": {},
   "source": [
    "## Separating Features and Label"
   ]
  },
  {
   "cell_type": "code",
   "execution_count": null,
   "id": "bf35c3c5",
   "metadata": {},
   "outputs": [],
   "source": [
    "features = ['RI','Na','Mg','Al','Si','K','Ca','Ba','Fe']\n",
    "label = ['glass_type']\n",
    "\n",
    "X = data[features]\n",
    "\n",
    "y = data[label]"
   ]
  },
  {
   "cell_type": "code",
   "execution_count": null,
   "id": "6eb458d6",
   "metadata": {},
   "outputs": [],
   "source": [
    "X.shape"
   ]
  },
  {
   "cell_type": "code",
   "execution_count": null,
   "id": "509cf003",
   "metadata": {},
   "outputs": [],
   "source": [
    "(194, 9)"
   ]
  },
  {
   "cell_type": "code",
   "execution_count": null,
   "id": "4119a45c",
   "metadata": {},
   "outputs": [],
   "source": [
    "type(X)"
   ]
  },
  {
   "cell_type": "code",
   "execution_count": null,
   "id": "aa3f70fb",
   "metadata": {},
   "outputs": [],
   "source": [
    "pandas.core.frame.DataFrame"
   ]
  },
  {
   "cell_type": "markdown",
   "id": "a33ea383",
   "metadata": {},
   "source": [
    "## Data Visualization"
   ]
  },
  {
   "cell_type": "code",
   "execution_count": null,
   "id": "8a411fb7",
   "metadata": {},
   "outputs": [],
   "source": [
    "x2 = X.values\n",
    "\n",
    "from matplotlib import pyplot as plt\n",
    "import seaborn as sns\n",
    "for i in range(1,9):\n",
    "        sns.distplot(x2[i])\n",
    "        plt.xlabel(features[i])\n",
    "        plt.show()"
   ]
  },
  {
   "cell_type": "markdown",
   "id": "5eac0e85",
   "metadata": {},
   "source": [
    "C:\\Users\\QCs\\AppData\\Local\\Programs\\Python\\Python37-32\\Lib\\site-packages\\scipy\\stats\\stats.py:1713: FutureWarning: Using a non-tuple sequence for multidimensional indexing is deprecated; use `arr[tuple(seq)]` instead of `arr[seq]`. In the future this will be interpreted as an array index, `arr[np.array(seq)]`, which will result either in an error or a different result.\n",
    "  return np.add.reduce(sorted[indexer] * weights, axis=axis) / sumval\n",
    "<Figure size 640x480 with 1 Axes>\n",
    "<Figure size 640x480 with 1 Axes>\n",
    "<Figure size 640x480 with 1 Axes>\n",
    "<Figure size 640x480 with 1 Axes>\n",
    "<Figure size 640x480 with 1 Axes>\n",
    "<Figure size 640x480 with 1 Axes>\n",
    "<Figure size 640x480 with 1 Axes>\n",
    "<Figure size 640x480 with 1 Axes>\n",
    "Above diagrams shows that our dataset is skewed either on positive side or negative side and data is not normalized"
   ]
  },
  {
   "cell_type": "code",
   "execution_count": null,
   "id": "3ca6488b",
   "metadata": {},
   "outputs": [],
   "source": [
    "x2 = pd.DataFrame(X)\n",
    "\n",
    "plt.figure(figsize=(8,8))\n",
    "sns.pairplot(data=x2)\n",
    "plt.show()"
   ]
  },
  {
   "cell_type": "code",
   "execution_count": null,
   "id": "7ee979bc",
   "metadata": {},
   "outputs": [],
   "source": [
    "coreleation= X.corr()\n",
    "plt.figure(figsize=(15,15))\n",
    "sns.heatmap(coreleation,cbar=True,square=True,annot=True,fmt='.1f',annot_kws={'size': 15},xticklabels=features,yticklabels=features,alpha=0.7,cmap= 'coolwarm')\n",
    "plt.show()"
   ]
  },
  {
   "cell_type": "markdown",
   "id": "d6608029",
   "metadata": {},
   "source": [
    "Our Diagram shows correaltion between different features Conclusion:\n",
    "\n",
    "RI and Ca have strong correlation between each other\n",
    "AI and ba have intermediate correlation between each other"
   ]
  },
  {
   "cell_type": "markdown",
   "id": "09fe18a3",
   "metadata": {},
   "source": [
    "## Scalling the data (1-0 range)"
   ]
  },
  {
   "cell_type": "code",
   "execution_count": null,
   "id": "3d97fad4",
   "metadata": {},
   "outputs": [],
   "source": [
    "## normalizing/Scalling the data  \n",
    "\n",
    "from sklearn.preprocessing import MinMaxScaler\n",
    "scaler = MinMaxScaler()\n",
    "#scaler.fit(X)\n",
    "#X = scaler.transform(X)\n",
    "#X = pd.DataFrame(X)"
   ]
  },
  {
   "cell_type": "code",
   "execution_count": null,
   "id": "4a5e4686",
   "metadata": {},
   "outputs": [],
   "source": [
    "X.head(2)"
   ]
  },
  {
   "cell_type": "markdown",
   "id": "137f4fc7",
   "metadata": {},
   "source": [
    "RI\tNa\tMg\tAl\tSi\tK\tCa\tBa\tFe\n",
    "0\t1.52101\t13.64\t4.49\t1.10\t71.78\t0.06\t8.75\t0.0\t0.0\n",
    "1\t1.51761\t13.89\t3.60\t1.36\t72.73\t0.48\t7.83\t0.0\t0.0"
   ]
  },
  {
   "cell_type": "code",
   "execution_count": null,
   "id": "c2837fdc",
   "metadata": {},
   "outputs": [],
   "source": [
    "y.head(2)"
   ]
  },
  {
   "cell_type": "markdown",
   "id": "b8c40590",
   "metadata": {},
   "source": [
    "glass_type\n",
    "0\t1\n",
    "1\t1"
   ]
  },
  {
   "cell_type": "markdown",
   "id": "cd010c8d",
   "metadata": {},
   "source": [
    "## Scalling the features"
   ]
  },
  {
   "cell_type": "code",
   "execution_count": null,
   "id": "76b13df7",
   "metadata": {},
   "outputs": [],
   "source": [
    "from sklearn import preprocessing\n",
    "X=preprocessing.scale(X)"
   ]
  },
  {
   "cell_type": "code",
   "execution_count": null,
   "id": "393d3a2f",
   "metadata": {},
   "outputs": [],
   "source": []
  },
  {
   "cell_type": "markdown",
   "id": "b9fd3f80",
   "metadata": {},
   "source": [
    "## Visualizing Data after Preprocessing"
   ]
  },
  {
   "cell_type": "code",
   "execution_count": null,
   "id": "4b494aab",
   "metadata": {},
   "outputs": [],
   "source": [
    "x2 = X\n",
    "\n",
    "from matplotlib import pyplot as plt\n",
    "import seaborn as sns\n",
    "for i in range(1,9):\n",
    "        sns.distplot(x2[i])\n",
    "        plt.xlabel(features[i])\n",
    "        plt.show()"
   ]
  },
  {
   "cell_type": "markdown",
   "id": "58022153",
   "metadata": {},
   "source": [
    "C:\\Users\\QCs\\AppData\\Local\\Programs\\Python\\Python37-32\\Lib\\site-packages\\scipy\\stats\\stats.py:1713: FutureWarning: Using a non-tuple sequence for multidimensional indexing is deprecated; use `arr[tuple(seq)]` instead of `arr[seq]`. In the future this will be interpreted as an array index, `arr[np.array(seq)]`, which will result either in an error or a different result.\n",
    "  return np.add.reduce(sorted[indexer] * weights, axis=axis) / sumval"
   ]
  },
  {
   "cell_type": "markdown",
   "id": "38bcb551",
   "metadata": {},
   "source": [
    "## Train Test Split "
   ]
  },
  {
   "cell_type": "code",
   "execution_count": null,
   "id": "97495faa",
   "metadata": {},
   "outputs": [],
   "source": [
    "from sklearn.model_selection import train_test_split"
   ]
  },
  {
   "cell_type": "code",
   "execution_count": null,
   "id": "8290813b",
   "metadata": {},
   "outputs": [],
   "source": [
    "X_train, X_test, y_train, y_test = train_test_split(X, y, test_size=0.25, random_state=0,stratify=y)"
   ]
  },
  {
   "cell_type": "code",
   "execution_count": null,
   "id": "0049b4ca",
   "metadata": {},
   "outputs": [],
   "source": [
    "## Flattening the array\n",
    "y_train = y_train.values.ravel()\n",
    "y_test = y_test.values.ravel()"
   ]
  },
  {
   "cell_type": "code",
   "execution_count": null,
   "id": "af440505",
   "metadata": {},
   "outputs": [],
   "source": [
    "print('Shape of X_train = ' + str(X_train.shape))\n",
    "print('Shape of X_test = ' + str(X_test.shape))\n",
    "print('Shape of y_train = ' + str(y_train.shape))\n",
    "print('Shape of y_test = ' + str(y_test.shape))"
   ]
  },
  {
   "cell_type": "markdown",
   "id": "034c9c57",
   "metadata": {},
   "source": [
    "Shape of X_train = (145, 9)\n",
    "Shape of X_test = (49, 9)\n",
    "Shape of y_train = (145,)\n",
    "Shape of y_test = (49,)"
   ]
  },
  {
   "cell_type": "markdown",
   "id": "791f0482",
   "metadata": {},
   "source": [
    "## Applying Different Machine learning Models"
   ]
  },
  {
   "cell_type": "markdown",
   "id": "8de178d0",
   "metadata": {},
   "source": [
    "### 1.KNN"
   ]
  },
  {
   "cell_type": "code",
   "execution_count": null,
   "id": "c9dd6cc9",
   "metadata": {},
   "outputs": [],
   "source": [
    "from sklearn.metrics import accuracy_score\n",
    "from sklearn.neighbors import KNeighborsClassifier\n",
    "\n",
    "Scores = []\n",
    "\n",
    "for i in range (2,11):\n",
    "    knn = KNeighborsClassifier(n_neighbors=i)\n",
    "    knn.fit(X_train, y_train)\n",
    "    score = knn.score(X_test,y_test)\n",
    "    Scores.append(score)\n",
    "\n",
    "print(knn.score(X_train,y_train))\n",
    "print(Scores)"
   ]
  },
  {
   "cell_type": "markdown",
   "id": "6d192690",
   "metadata": {},
   "source": [
    "0.6896551724137931\n",
    "[0.7142857142857143, 0.6326530612244898, 0.7142857142857143, 0.6938775510204082, 0.6530612244897959, 0.6530612244897959, 0.6938775510204082, 0.673469387755102, 0.7142857142857143]"
   ]
  },
  {
   "cell_type": "markdown",
   "id": "16e7ea18",
   "metadata": {},
   "source": [
    "### 2.Decision Tree"
   ]
  },
  {
   "cell_type": "code",
   "execution_count": null,
   "id": "cf566eda",
   "metadata": {},
   "outputs": [],
   "source": [
    "from sklearn.tree import DecisionTreeClassifier\n",
    "\n",
    "Scores = []\n",
    "\n",
    "for i in range(1):\n",
    "    tree = DecisionTreeClassifier(random_state=0)\n",
    "    tree.fit(X_train, y_train)\n",
    "    score = tree.score(X_test,y_test)\n",
    "    Scores.append(score)\n",
    "\n",
    "print(tree.score(X_train,y_train))\n",
    "print(Scores)"
   ]
  },
  {
   "cell_type": "markdown",
   "id": "661f30b1",
   "metadata": {},
   "source": [
    "1.0\n",
    "[0.5714285714285714]"
   ]
  },
  {
   "cell_type": "markdown",
   "id": "4544a116",
   "metadata": {},
   "source": [
    "### 3.Logistic Regression"
   ]
  },
  {
   "cell_type": "code",
   "execution_count": null,
   "id": "d0174422",
   "metadata": {},
   "outputs": [],
   "source": [
    "from sklearn.linear_model import LogisticRegression\n",
    "\n",
    "Scores = []\n",
    "\n",
    "for i in range(1):\n",
    "    logistic = LogisticRegression(random_state=0, solver='lbfgs',multi_class='multinomial',max_iter=100)\n",
    "    logistic.fit(X_train, y_train)\n",
    "    score = logistic.score(X_test,y_test)\n",
    "    Scores.append(score)\n",
    "    \n",
    "print(logistic.score(X_train,y_train))\n",
    "print(Scores)"
   ]
  },
  {
   "cell_type": "markdown",
   "id": "fddfbb72",
   "metadata": {},
   "source": [
    "0.7448275862068966\n",
    "[0.6938775510204082]"
   ]
  },
  {
   "cell_type": "markdown",
   "id": "fa0a8e4d",
   "metadata": {},
   "source": [
    "### 4.SVC Classifier (Non-Linear Kernal)"
   ]
  },
  {
   "cell_type": "code",
   "execution_count": null,
   "id": "bfd9f6ce",
   "metadata": {},
   "outputs": [],
   "source": [
    "from sklearn.svm import SVC\n",
    "\n",
    "Scores = []\n",
    "\n",
    "for i in range(1):\n",
    "    svc = SVC(gamma='auto')\n",
    "    svc.fit(X_train, y_train)\n",
    "    score = svc.score(X_test,y_test)\n",
    "    Scores.append(score)\n",
    "\n",
    "print(svc.score(X_train,y_train))\n",
    "print(Scores)"
   ]
  },
  {
   "cell_type": "markdown",
   "id": "c848f4eb",
   "metadata": {},
   "source": [
    "0.7586206896551724\n",
    "[0.7551020408163265]"
   ]
  },
  {
   "cell_type": "markdown",
   "id": "548391e0",
   "metadata": {},
   "source": [
    "### 5.SVC Classifier (Linear Kernal)"
   ]
  },
  {
   "cell_type": "code",
   "execution_count": null,
   "id": "07986cd1",
   "metadata": {},
   "outputs": [],
   "source": [
    "from sklearn.svm import LinearSVC\n",
    "\n",
    "Scores = []\n",
    "\n",
    "for i in range(1):\n",
    "    svc = LinearSVC(random_state=0)\n",
    "    svc.fit(X_train, y_train)\n",
    "    score = svc.score(X_test,y_test)\n",
    "    Scores.append(score)\n",
    "\n",
    "print(svc.score(X_train,y_train))\n",
    "print(Scores)"
   ]
  },
  {
   "cell_type": "markdown",
   "id": "0769b107",
   "metadata": {},
   "source": [
    "0.7448275862068966\n",
    "[0.6938775510204082]\n",
    "C:\\Users\\QCs\\AppData\\Local\\Programs\\Python\\Python37-32\\Lib\\site-packages\\sklearn\\svm\\base.py:931: ConvergenceWarning: Liblinear failed to converge, increase the number of iterations.\n",
    "  \"the number of iterations.\", ConvergenceWarning)"
   ]
  },
  {
   "cell_type": "markdown",
   "id": "95fa7db1",
   "metadata": {},
   "source": [
    "## 6.Random Forest"
   ]
  },
  {
   "cell_type": "code",
   "execution_count": null,
   "id": "511c688f",
   "metadata": {},
   "outputs": [],
   "source": [
    "from sklearn.ensemble import RandomForestClassifier\n",
    "\n",
    "Scores = []\n",
    "Range = [10,20,30,50,70,80,100,120]\n",
    "\n",
    "for i in range(1):\n",
    "    forest = RandomForestClassifier(criterion='gini', n_estimators=10, min_samples_leaf=1, min_samples_split=4, random_state=1,n_jobs=-1)\n",
    "    #forest = RandomForestClassifier(n_estimators=i ,random_state=0)\n",
    "    forest.fit(X_train, y_train)\n",
    "    score = forest.score(X_test,y_test)\n",
    "    #Scores.append(score)\n",
    "\n",
    "print(forest.score(X_train,y_train))\n",
    "print(score)"
   ]
  },
  {
   "cell_type": "markdown",
   "id": "24f4aaaf",
   "metadata": {},
   "source": [
    "0.9793103448275862\n",
    "0.7755102040816326"
   ]
  },
  {
   "cell_type": "markdown",
   "id": "c2568a25",
   "metadata": {},
   "source": [
    "## 7.Neural Network"
   ]
  },
  {
   "cell_type": "code",
   "execution_count": null,
   "id": "c765da37",
   "metadata": {},
   "outputs": [],
   "source": [
    "from sklearn.neural_network import MLPClassifier\n",
    "\n",
    "Scores = []\n",
    "\n",
    "for i in range(1):\n",
    "    NN = MLPClassifier(random_state=0)\n",
    "    NN.fit(X_train, y_train)\n",
    "    score = NN.score(X_test,y_test)\n",
    "    Scores.append(score)\n",
    "\n",
    "print(NN.score(X_train,y_train))\n",
    "print(Scores)"
   ]
  },
  {
   "cell_type": "markdown",
   "id": "4adf1fcb",
   "metadata": {},
   "source": [
    "0.7931034482758621\n",
    "[0.7346938775510204]\n",
    "C:\\Users\\QCs\\AppData\\Local\\Programs\\Python\\Python37-32\\Lib\\site-packages\\sklearn\\neural_network\\multilayer_perceptron.py:562: ConvergenceWarning: Stochastic Optimizer: Maximum iterations (200) reached and the optimization hasn't converged yet.\n",
    "  % self.max_iter, ConvergenceWarning)"
   ]
  },
  {
   "cell_type": "markdown",
   "id": "9b68ff89",
   "metadata": {},
   "source": [
    "## 8.Gradient Decent Tree Boosting"
   ]
  },
  {
   "cell_type": "code",
   "execution_count": null,
   "id": "9781797f",
   "metadata": {},
   "outputs": [],
   "source": [
    "from sklearn.ensemble import GradientBoostingClassifier\n",
    "\n",
    "gd = GradientBoostingClassifier(n_estimators=100, learning_rate=1.0, max_depth=1, random_state=0)\n",
    "\n",
    "gd.fit(X_train, y_train)\n",
    "score = gd.score(X_test,y_test)\n",
    "\n",
    "print(gd.score(X_train,y_train))\n",
    "print(score)"
   ]
  },
  {
   "cell_type": "code",
   "execution_count": null,
   "id": "abb81d5f",
   "metadata": {},
   "outputs": [],
   "source": [
    "1.0\n",
    "0.7142857142857143"
   ]
  },
  {
   "cell_type": "markdown",
   "id": "6708493b",
   "metadata": {},
   "source": [
    "## Summary"
   ]
  },
  {
   "cell_type": "markdown",
   "id": "aae4fe9a",
   "metadata": {},
   "source": [
    "#### Out of all above models: "
   ]
  },
  {
   "cell_type": "code",
   "execution_count": null,
   "id": "6ea524aa",
   "metadata": {},
   "outputs": [],
   "source": [
    "Randorm forest is giving best result with:"
   ]
  },
  {
   "cell_type": "code",
   "execution_count": null,
   "id": "15648180",
   "metadata": {},
   "outputs": [],
   "source": [
    "training accuracy: 0.9793103448275862\n",
    "test accuracy: 0.7755102040816326"
   ]
  },
  {
   "cell_type": "code",
   "execution_count": null,
   "id": "9057d6f7",
   "metadata": {},
   "outputs": [],
   "source": [
    "But since it is overfitting we will choose next best model that is:"
   ]
  },
  {
   "cell_type": "code",
   "execution_count": null,
   "id": "b14de758",
   "metadata": {},
   "outputs": [],
   "source": [
    "SVM (Non Linear Kernal)\n",
    "\n",
    "training accuracy: 0.7586206896551724\n",
    "testing accuracy: 0.7551020408163265"
   ]
  },
  {
   "cell_type": "markdown",
   "id": "48ac7373",
   "metadata": {},
   "source": [
    "## Method 2 -----------------------------------"
   ]
  },
  {
   "cell_type": "code",
   "execution_count": null,
   "id": "bafbda0d",
   "metadata": {},
   "outputs": [],
   "source": [
    "url = 'https://archive.ics.uci.edu/ml/machine-learning-databases/glass/glass.data'\n",
    "data = pd.read_csv(url, header=None)\n",
    "\n",
    "\n",
    "names = ['Id','RI','Na','Mg','Al','Si','K','Ca','Ba','Fe','glass_type']\n",
    "data.columns = names\n",
    "\n",
    "data.describe()"
   ]
  },
  {
   "cell_type": "markdown",
   "id": "65012740",
   "metadata": {},
   "source": [
    "Id\tRI\tNa\tMg\tAl\tSi\tK\tCa\tBa\tFe\tglass_type\n",
    "count\t214.000000\t214.000000\t214.000000\t214.000000\t214.000000\t214.000000\t214.000000\t214.000000\t214.000000\t214.000000\t214.000000\n",
    "mean\t107.500000\t1.518365\t13.407850\t2.684533\t1.444907\t72.650935\t0.497056\t8.956963\t0.175047\t0.057009\t2.780374\n",
    "std\t61.920648\t0.003037\t0.816604\t1.442408\t0.499270\t0.774546\t0.652192\t1.423153\t0.497219\t0.097439\t2.103739\n",
    "min\t1.000000\t1.511150\t10.730000\t0.000000\t0.290000\t69.810000\t0.000000\t5.430000\t0.000000\t0.000000\t1.000000\n",
    "25%\t54.250000\t1.516523\t12.907500\t2.115000\t1.190000\t72.280000\t0.122500\t8.240000\t0.000000\t0.000000\t1.000000\n",
    "50%\t107.500000\t1.517680\t13.300000\t3.480000\t1.360000\t72.790000\t0.555000\t8.600000\t0.000000\t0.000000\t2.000000\n",
    "75%\t160.750000\t1.519157\t13.825000\t3.600000\t1.630000\t73.087500\t0.610000\t9.172500\t0.000000\t0.100000\t3.000000\n",
    "max\t214.000000\t1.533930\t17.380000\t4.490000\t3.500000\t75.410000\t6.210000\t16.190000\t3.150000\t0.510000\t7.000000"
   ]
  },
  {
   "cell_type": "markdown",
   "id": "5a4a9738",
   "metadata": {},
   "source": [
    "In columns [RI,Na,Mg,AI,Si] there is no big difference in min and max so not much of a variance.\n",
    "In [K,Ca,Ba,fe] There is big difference in min and max value.\n",
    "We will divide the 7 categories of label class in to two categories of 1 and 2"
   ]
  },
  {
   "cell_type": "code",
   "execution_count": null,
   "id": "cce2768e",
   "metadata": {},
   "outputs": [],
   "source": [
    "glass_type = []\n",
    "for i in data['glass_type']:\n",
    "    if i >= 1 and i <= 4:\n",
    "        glass_type.append('1')\n",
    "    elif i >= 5 and i <= 7:\n",
    "        glass_type.append('2')\n",
    "\n",
    "data['glass_type'] = glass_type\n",
    "\n",
    "set(glass_type)"
   ]
  },
  {
   "cell_type": "code",
   "execution_count": null,
   "id": "5db29762",
   "metadata": {},
   "outputs": [],
   "source": [
    "{'1', '2'}"
   ]
  },
  {
   "cell_type": "markdown",
   "id": "7c447aa4",
   "metadata": {},
   "source": [
    "## Processing the Data"
   ]
  },
  {
   "cell_type": "code",
   "execution_count": null,
   "id": "038b4d0a",
   "metadata": {},
   "outputs": [],
   "source": [
    "features = ['RI','Na','Mg','Al','Si','K','Ca','Ba','Fe']\n",
    "label = ['glass_type']\n",
    "\n",
    "X = data[features]\n",
    "\n",
    "y = data[label]"
   ]
  },
  {
   "cell_type": "code",
   "execution_count": null,
   "id": "fa6cd319",
   "metadata": {},
   "outputs": [],
   "source": [
    "y['glass_type'].unique()"
   ]
  },
  {
   "cell_type": "markdown",
   "id": "a8e8c9a7",
   "metadata": {},
   "source": [
    "array(['1', '2'], dtype=object)"
   ]
  },
  {
   "cell_type": "code",
   "execution_count": null,
   "id": "8d8de882",
   "metadata": {},
   "outputs": [],
   "source": [
    "from sklearn import preprocessing\n",
    "X = preprocessing.scale(X)"
   ]
  },
  {
   "cell_type": "code",
   "execution_count": null,
   "id": "ce58d6ac",
   "metadata": {},
   "outputs": [],
   "source": [
    "X_train, X_test, y_train, y_test = train_test_split(X, y, test_size=0.3, random_state=0,stratify=y)\n",
    "\n",
    "## Flattening the array\n",
    "y_train = y_train.values.ravel()\n",
    "y_test = y_test.values.ravel()"
   ]
  },
  {
   "cell_type": "code",
   "execution_count": null,
   "id": "72b30842",
   "metadata": {},
   "outputs": [],
   "source": [
    "from sklearn.ensemble import RandomForestClassifier\n",
    "\n",
    "forest = RandomForestClassifier(random_state=0)\n",
    "forest.fit(X_train, y_train)\n",
    "score = forest.score(X_test,y_test)\n",
    "\n",
    "print(forest.score(X_train,y_train))\n",
    "print(score)"
   ]
  },
  {
   "cell_type": "markdown",
   "id": "a68653b3",
   "metadata": {},
   "source": [
    "1.0\n",
    "0.9384615384615385\n",
    "C:\\Users\\QCs\\AppData\\Local\\Programs\\Python\\Python37-32\\Lib\\site-packages\\sklearn\\ensemble\\forest.py:246: FutureWarning: The default value of n_estimators will change from 10 in version 0.20 to 100 in 0.22.\n",
    "  \"10 in version 0.20 to 100 in 0.22.\", FutureWarning)\n",
    " "
   ]
  }
 ],
 "metadata": {
  "kernelspec": {
   "display_name": "Python 3 (ipykernel)",
   "language": "python",
   "name": "python3"
  },
  "language_info": {
   "codemirror_mode": {
    "name": "ipython",
    "version": 3
   },
   "file_extension": ".py",
   "mimetype": "text/x-python",
   "name": "python",
   "nbconvert_exporter": "python",
   "pygments_lexer": "ipython3",
   "version": "3.9.12"
  }
 },
 "nbformat": 4,
 "nbformat_minor": 5
}
