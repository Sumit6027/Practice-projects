{
 "cells": [
  {
   "cell_type": "markdown",
   "id": "5b0c7444",
   "metadata": {},
   "source": [
    "# Student Grade Analysis & Prediction"
   ]
  },
  {
   "cell_type": "markdown",
   "id": "17c352ab",
   "metadata": {},
   "source": [
    "## Import Libraries"
   ]
  },
  {
   "cell_type": "code",
   "execution_count": null,
   "id": "de3a6b06",
   "metadata": {},
   "outputs": [],
   "source": [
    "import pandas as pd\n",
    "import numpy as np\n",
    "import matplotlib.pyplot as plt\n",
    "import seaborn as sns\n",
    "%matplotlib inline"
   ]
  },
  {
   "cell_type": "markdown",
   "id": "bc3c98db",
   "metadata": {},
   "source": [
    "## The Data\n"
   ]
  },
  {
   "cell_type": "markdown",
   "id": "988a3e7d",
   "metadata": {},
   "source": [
    "#### Let's start by reading in the student-mat.csv file into a pandas dataframe.\n",
    "\n"
   ]
  },
  {
   "cell_type": "code",
   "execution_count": null,
   "id": "f503fb4e",
   "metadata": {},
   "outputs": [],
   "source": [
    "stud= pd.read_csv('student-mat.csv')    # Read the dataset"
   ]
  },
  {
   "cell_type": "code",
   "execution_count": null,
   "id": "7366566e",
   "metadata": {},
   "outputs": [],
   "source": [
    "print('Total number of students:',len(stud))"
   ]
  },
  {
   "cell_type": "markdown",
   "id": "90ff6795",
   "metadata": {},
   "source": [
    "Total number of students: 395"
   ]
  },
  {
   "cell_type": "code",
   "execution_count": null,
   "id": "5e4330ff",
   "metadata": {},
   "outputs": [],
   "source": [
    "stud['G3'].describe()"
   ]
  },
  {
   "cell_type": "markdown",
   "id": "2c3cce9b",
   "metadata": {},
   "source": [
    "count    395.000000\n",
    "mean      10.415190\n",
    "std        4.581443\n",
    "min        0.000000\n",
    "25%        8.000000\n",
    "50%       11.000000\n",
    "75%       14.000000\n",
    "max       20.000000\n",
    "Name: G3, dtype: float64"
   ]
  },
  {
   "cell_type": "code",
   "execution_count": null,
   "id": "940c6ad8",
   "metadata": {},
   "outputs": [],
   "source": [
    "stud.info()    # Information on dataset"
   ]
  },
  {
   "cell_type": "markdown",
   "id": "06b995bd",
   "metadata": {},
   "source": [
    "<class 'pandas.core.frame.DataFrame'>\n",
    "RangeIndex: 395 entries, 0 to 394\n",
    "Data columns (total 33 columns):\n",
    "school        395 non-null object\n",
    "sex           395 non-null object\n",
    "age           395 non-null int64\n",
    "address       395 non-null object\n",
    "famsize       395 non-null object\n",
    "Pstatus       395 non-null object\n",
    "Medu          395 non-null int64\n",
    "Fedu          395 non-null int64\n",
    "Mjob          395 non-null object\n",
    "Fjob          395 non-null object\n",
    "reason        395 non-null object\n",
    "guardian      395 non-null object\n",
    "traveltime    395 non-null int64\n",
    "studytime     395 non-null int64\n",
    "failures      395 non-null int64\n",
    "schoolsup     395 non-null object\n",
    "famsup        395 non-null object\n",
    "paid          395 non-null object\n",
    "activities    395 non-null object\n",
    "nursery       395 non-null object\n",
    "higher        395 non-null object\n",
    "internet      395 non-null object\n",
    "romantic      395 non-null object\n",
    "famrel        395 non-null int64\n",
    "freetime      395 non-null int64\n",
    "goout         395 non-null int64\n",
    "Dalc          395 non-null int64\n",
    "Walc          395 non-null int64\n",
    "health        395 non-null int64\n",
    "absences      395 non-null int64\n",
    "G1            395 non-null int64\n",
    "G2            395 non-null int64\n",
    "G3            395 non-null int64\n",
    "dtypes: int64(16), object(17)\n",
    "memory usage: 101.9+ KB"
   ]
  },
  {
   "cell_type": "code",
   "execution_count": null,
   "id": "d7ee81e4",
   "metadata": {},
   "outputs": [],
   "source": [
    "stud.columns    # Dataset Columns"
   ]
  },
  {
   "cell_type": "markdown",
   "id": "6a6c60b3",
   "metadata": {},
   "source": [
    "Index(['school', 'sex', 'age', 'address', 'famsize', 'Pstatus', 'Medu', 'Fedu',\n",
    "       'Mjob', 'Fjob', 'reason', 'guardian', 'traveltime', 'studytime',\n",
    "       'failures', 'schoolsup', 'famsup', 'paid', 'activities', 'nursery',\n",
    "       'higher', 'internet', 'romantic', 'famrel', 'freetime', 'goout', 'Dalc',\n",
    "       'Walc', 'health', 'absences', 'G1', 'G2', 'G3'],\n",
    "      dtype='object')"
   ]
  },
  {
   "cell_type": "code",
   "execution_count": null,
   "id": "e19a1838",
   "metadata": {},
   "outputs": [],
   "source": [
    "stud.describe()    # Dataset description"
   ]
  },
  {
   "cell_type": "markdown",
   "id": "d47236e8",
   "metadata": {},
   "source": [
    "\tage\tMedu\tFedu\ttraveltime\tstudytime\tfailures\tfamrel\tfreetime\tgoout\tDalc\tWalc\thealth\tabsences\tG1\tG2\tG3\n",
    "count\t395.000000\t395.000000\t395.000000\t395.000000\t395.000000\t395.000000\t395.000000\t395.000000\t395.000000\t395.000000\t395.000000\t395.000000\t395.000000\t395.000000\t395.000000\t395.000000\n",
    "mean\t16.696203\t2.749367\t2.521519\t1.448101\t2.035443\t0.334177\t3.944304\t3.235443\t3.108861\t1.481013\t2.291139\t3.554430\t5.708861\t10.908861\t10.713924\t10.415190\n",
    "std\t1.276043\t1.094735\t1.088201\t0.697505\t0.839240\t0.743651\t0.896659\t0.998862\t1.113278\t0.890741\t1.287897\t1.390303\t8.003096\t3.319195\t3.761505\t4.581443\n",
    "min\t15.000000\t0.000000\t0.000000\t1.000000\t1.000000\t0.000000\t1.000000\t1.000000\t1.000000\t1.000000\t1.000000\t1.000000\t0.000000\t3.000000\t0.000000\t0.000000\n",
    "25%\t16.000000\t2.000000\t2.000000\t1.000000\t1.000000\t0.000000\t4.000000\t3.000000\t2.000000\t1.000000\t1.000000\t3.000000\t0.000000\t8.000000\t9.000000\t8.000000\n",
    "50%\t17.000000\t3.000000\t2.000000\t1.000000\t2.000000\t0.000000\t4.000000\t3.000000\t3.000000\t1.000000\t2.000000\t4.000000\t4.000000\t11.000000\t11.000000\t11.000000\n",
    "75%\t18.000000\t4.000000\t3.000000\t2.000000\t2.000000\t0.000000\t5.000000\t4.000000\t4.000000\t2.000000\t3.000000\t5.000000\t8.000000\t13.000000\t13.000000\t14.000000\n",
    "max\t22.000000\t4.000000\t4.000000\t4.000000\t4.000000\t3.000000\t5.000000\t5.000000\t5.000000\t5.000000\t5.000000\t5.000000\t75.000000\t19.000000\t19.000000\t20.000000"
   ]
  },
  {
   "cell_type": "code",
   "execution_count": null,
   "id": "97bc20e5",
   "metadata": {},
   "outputs": [],
   "source": [
    "stud.head()    # First 5 values of dataset"
   ]
  },
  {
   "cell_type": "markdown",
   "id": "da3daacb",
   "metadata": {},
   "source": [
    "school\tsex\tage\taddress\tfamsize\tPstatus\tMedu\tFedu\tMjob\tFjob\t...\tfamrel\tfreetime\tgoout\tDalc\tWalc\thealth\tabsences\tG1\tG2\tG3\n",
    "0\tGP\tF\t18\tU\tGT3\tA\t4\t4\tat_home\tteacher\t...\t4\t3\t4\t1\t1\t3\t6\t5\t6\t6\n",
    "1\tGP\tF\t17\tU\tGT3\tT\t1\t1\tat_home\tother\t...\t5\t3\t3\t1\t1\t3\t4\t5\t5\t6\n",
    "2\tGP\tF\t15\tU\tLE3\tT\t1\t1\tat_home\tother\t...\t4\t3\t2\t2\t3\t3\t10\t7\t8\t10\n",
    "3\tGP\tF\t15\tU\tGT3\tT\t4\t2\thealth\tservices\t...\t3\t2\t2\t1\t1\t5\t2\t15\t14\t15\n",
    "4\tGP\tF\t16\tU\tGT3\tT\t3\t3\tother\tother\t...\t4\t3\t2\t1\t2\t5\t4\t6\t10\t10\n",
    "5 rows × 33 columns"
   ]
  },
  {
   "cell_type": "code",
   "execution_count": null,
   "id": "40b2e1b8",
   "metadata": {},
   "outputs": [],
   "source": [
    "stud.tail()    # Last 5 values of dataset"
   ]
  },
  {
   "cell_type": "markdown",
   "id": "d44bfc15",
   "metadata": {},
   "source": [
    "\tschool\tsex\tage\taddress\tfamsize\tPstatus\tMedu\tFedu\tMjob\tFjob\t...\tfamrel\tfreetime\tgoout\tDalc\tWalc\thealth\tabsences\tG1\tG2\tG3\n",
    "390\tMS\tM\t20\tU\tLE3\tA\t2\t2\tservices\tservices\t...\t5\t5\t4\t4\t5\t4\t11\t9\t9\t9\n",
    "391\tMS\tM\t17\tU\tLE3\tT\t3\t1\tservices\tservices\t...\t2\t4\t5\t3\t4\t2\t3\t14\t16\t16\n",
    "392\tMS\tM\t21\tR\tGT3\tT\t1\t1\tother\tother\t...\t5\t5\t3\t3\t3\t3\t3\t10\t8\t7\n",
    "393\tMS\tM\t18\tR\tLE3\tT\t3\t2\tservices\tother\t...\t4\t4\t1\t3\t4\t5\t0\t11\t12\t10\n",
    "394\tMS\tM\t19\tU\tLE3\tT\t1\t1\tother\tat_home\t...\t3\t2\t3\t3\t3\t5\t5\t8\t9\t9\n",
    "5 rows × 33 columns"
   ]
  },
  {
   "cell_type": "code",
   "execution_count": null,
   "id": "9d6451db",
   "metadata": {},
   "outputs": [],
   "source": [
    "stud.isnull().any()    # To check any null values present in dataset"
   ]
  },
  {
   "cell_type": "markdown",
   "id": "1c38a611",
   "metadata": {},
   "source": [
    "school        False\n",
    "sex           False\n",
    "age           False\n",
    "address       False\n",
    "famsize       False\n",
    "Pstatus       False\n",
    "Medu          False\n",
    "Fedu          False\n",
    "Mjob          False\n",
    "Fjob          False\n",
    "reason        False\n",
    "guardian      False\n",
    "traveltime    False\n",
    "studytime     False\n",
    "failures      False\n",
    "schoolsup     False\n",
    "famsup        False\n",
    "paid          False\n",
    "activities    False\n",
    "nursery       False\n",
    "higher        False\n",
    "internet      False\n",
    "romantic      False\n",
    "famrel        False\n",
    "freetime      False\n",
    "goout         False\n",
    "Dalc          False\n",
    "Walc          False\n",
    "health        False\n",
    "absences      False\n",
    "G1            False\n",
    "G2            False\n",
    "G3            False\n",
    "dtype: bool"
   ]
  },
  {
   "cell_type": "code",
   "execution_count": null,
   "id": "7a9ce7a8",
   "metadata": {},
   "outputs": [],
   "source": [
    "import cufflinks as cf\n",
    "cf.go_offline()"
   ]
  },
  {
   "cell_type": "code",
   "execution_count": null,
   "id": "976abcde",
   "metadata": {},
   "outputs": [],
   "source": [
    "stud.iplot()    # Plot for the all attributes"
   ]
  },
  {
   "cell_type": "code",
   "execution_count": null,
   "id": "6c3fcd3f",
   "metadata": {},
   "outputs": [],
   "source": [
    "stud.iplot(kind='scatter',x='age',y='G3',mode='markers',size=8)    # Plot for age vs G3"
   ]
  },
  {
   "cell_type": "code",
   "execution_count": null,
   "id": "3c16f6d3",
   "metadata": {},
   "outputs": [],
   "source": [
    "stud.iplot(kind='box')"
   ]
  },
  {
   "cell_type": "code",
   "execution_count": null,
   "id": "ff7187df",
   "metadata": {},
   "outputs": [],
   "source": [
    "stud['G3'].iplot(kind='hist',bins=100,color='blue')"
   ]
  },
  {
   "cell_type": "markdown",
   "id": "45e6051d",
   "metadata": {},
   "source": [
    "## Data Visualization"
   ]
  },
  {
   "cell_type": "code",
   "execution_count": null,
   "id": "203f2f03",
   "metadata": {},
   "outputs": [],
   "source": [
    "sns.heatmap(stud.isnull(),cmap=\"rainbow\",yticklabels=False)    # To check any null values present in dataset pictorially"
   ]
  },
  {
   "cell_type": "markdown",
   "id": "6fecac24",
   "metadata": {},
   "source": [
    "<matplotlib.axes._subplots.AxesSubplot at 0x2041744c438>\n"
   ]
  },
  {
   "cell_type": "code",
   "execution_count": null,
   "id": "737c66d2",
   "metadata": {},
   "outputs": [],
   "source": [
    "sns.heatmap(stud.isnull(),cmap=\"viridis\",yticklabels=False)    # Map color - viridis"
   ]
  },
  {
   "cell_type": "code",
   "execution_count": null,
   "id": "2c2e183a",
   "metadata": {},
   "outputs": [],
   "source": [
    "<matplotlib.axes._subplots.AxesSubplot at 0x20414b1c2b0>\n"
   ]
  },
  {
   "cell_type": "markdown",
   "id": "fb82c3a6",
   "metadata": {},
   "source": [
    "## Student's Sex"
   ]
  },
  {
   "cell_type": "code",
   "execution_count": null,
   "id": "f3a7cb97",
   "metadata": {},
   "outputs": [],
   "source": [
    "f_stud = len(stud[stud['sex'] == 'F'])    # Number of female students\n",
    "print('Number of female students:',f_stud)\n",
    "m_stud = len(stud[stud['sex'] == 'M'])    # Number of male students\n",
    "print('Number of male students:',m_stud)"
   ]
  },
  {
   "cell_type": "markdown",
   "id": "2c5d9aa5",
   "metadata": {},
   "source": [
    "Number of female students: 208\n",
    "Number of male students: 187"
   ]
  },
  {
   "cell_type": "code",
   "execution_count": null,
   "id": "dfd662b1",
   "metadata": {},
   "outputs": [],
   "source": [
    "sns.set_style('whitegrid')    # male & female student representaion on countplot\n",
    "sns.countplot(x='sex',data=stud,palette='plasma')"
   ]
  },
  {
   "cell_type": "code",
   "execution_count": null,
   "id": "8efe88c3",
   "metadata": {},
   "outputs": [],
   "source": [
    "<matplotlib.axes._subplots.AxesSubplot at 0x204149de630>\n",
    "\n",
    "The gender distribution is pretty even."
   ]
  },
  {
   "cell_type": "markdown",
   "id": "18b17ef0",
   "metadata": {},
   "source": [
    "## Age of Students"
   ]
  },
  {
   "cell_type": "code",
   "execution_count": null,
   "id": "2d7fd03b",
   "metadata": {},
   "outputs": [],
   "source": [
    "b = sns.kdeplot(stud['age'])    # Kernel Density Estimations\n",
    "b.axes.set_title('Ages of students')\n",
    "b.set_xlabel('Age')\n",
    "b.set_ylabel('Count')\n",
    "plt.show()"
   ]
  },
  {
   "cell_type": "code",
   "execution_count": null,
   "id": "e5a18835",
   "metadata": {},
   "outputs": [],
   "source": [
    "b = sns.countplot(x='age',hue='sex', data=stud, palette='inferno')\n",
    "b.axes.set_title('Number of Male & Female students in different age groups')\n",
    "b.set_xlabel(\"Age\")\n",
    "b.set_ylabel(\"Count\")\n",
    "plt.show()\n"
   ]
  },
  {
   "cell_type": "markdown",
   "id": "aec37259",
   "metadata": {},
   "source": [
    "The student age seems to be ranging from 15-19, where gender distribution is pretty even in each age group.\n",
    "The age group above 19 may be outliers, year back students or droupouts."
   ]
  },
  {
   "cell_type": "markdown",
   "id": "83411c28",
   "metadata": {},
   "source": [
    "## Students from Urban & Rural Areas"
   ]
  },
  {
   "cell_type": "code",
   "execution_count": null,
   "id": "ebd7d547",
   "metadata": {},
   "outputs": [],
   "source": [
    "u_stud = len(stud[stud['address'] == 'U'])    # Number of urban areas students\n",
    "print('Number of Urban students:',u_stud)\n",
    "r_stud = len(stud[stud['address'] == 'R'])    # Number of rural areas students\n",
    "print('Number of Rural students:',r_stud)"
   ]
  },
  {
   "cell_type": "markdown",
   "id": "fb511c66",
   "metadata": {},
   "source": [
    "Number of Urban students: 307\n",
    "Number of Rural students: 88"
   ]
  },
  {
   "cell_type": "code",
   "execution_count": null,
   "id": "ce03eb4c",
   "metadata": {},
   "outputs": [],
   "source": [
    "sns.set_style('whitegrid')\n",
    "sns.countplot(x='address',data=stud,palette='magma')    # urban & rural representaion on countplot"
   ]
  },
  {
   "cell_type": "markdown",
   "id": "1ef2c51e",
   "metadata": {},
   "source": [
    "<matplotlib.axes._subplots.AxesSubplot at 0x2041470feb8>\n",
    "\n",
    "Approximately 77.72% students come from urban region and 22.28% from rural region."
   ]
  },
  {
   "cell_type": "code",
   "execution_count": null,
   "id": "72e62d10",
   "metadata": {},
   "outputs": [],
   "source": [
    "sns.countplot(x='address',hue='G3',data=stud,palette='Oranges')"
   ]
  },
  {
   "cell_type": "markdown",
   "id": "9256a99b",
   "metadata": {},
   "source": [
    "<matplotlib.axes._subplots.AxesSubplot at 0x204158e1710>"
   ]
  },
  {
   "cell_type": "markdown",
   "id": "10d78e53",
   "metadata": {},
   "source": [
    "## EDA - Exploratory Data Analysis"
   ]
  },
  {
   "cell_type": "markdown",
   "id": "92b64a23",
   "metadata": {},
   "source": [
    "### 1. Does age affect final grade?"
   ]
  },
  {
   "cell_type": "code",
   "execution_count": null,
   "id": "bf128c39",
   "metadata": {},
   "outputs": [],
   "source": [
    "b= sns.boxplot(x='age', y='G3',data=stud,palette='gist_heat')\n",
    "b.axes.set_title('Age vs Final Grade')"
   ]
  },
  {
   "cell_type": "markdown",
   "id": "49e541fd",
   "metadata": {},
   "source": [
    "Text(0.5, 1.0, 'Age vs Final Grade')\n",
    "\n",
    "Plotting the distribution rather than statistics would help us better understand the data.\n",
    "The above plot shows that the median grades of the three age groups(15,16,17) are similar. Note the skewness of age group 19. (may be due to sample size). Age group 20 seems to score highest grades among all."
   ]
  },
  {
   "cell_type": "code",
   "execution_count": null,
   "id": "fd78d981",
   "metadata": {},
   "outputs": [],
   "source": [
    "b = sns.swarmplot(x='age', y='G3',hue='sex', data=stud,palette='PiYG')\n",
    "b.axes.set_title('Does age affect final grade?')"
   ]
  },
  {
   "cell_type": "code",
   "execution_count": null,
   "id": "634aa6bc",
   "metadata": {},
   "outputs": [],
   "source": [
    "Text(0.5, 1.0, 'Does age affect final grade?')\n"
   ]
  },
  {
   "cell_type": "markdown",
   "id": "7a5a05fe",
   "metadata": {},
   "source": [
    "## 2. Do urban students perform better than rural students? "
   ]
  },
  {
   "cell_type": "code",
   "execution_count": null,
   "id": "c7711a31",
   "metadata": {},
   "outputs": [],
   "source": [
    "# Grade distribution by address\n",
    "sns.kdeplot(stud.loc[stud['address'] == 'U', 'G3'], label='Urban', shade = True)\n",
    "sns.kdeplot(stud.loc[stud['address'] == 'R', 'G3'], label='Rural', shade = True)\n",
    "plt.title('Do urban students score higher than rural students?')\n",
    "plt.xlabel('Grade');\n",
    "plt.ylabel('Density')\n",
    "plt.show()"
   ]
  },
  {
   "cell_type": "markdown",
   "id": "81b4a416",
   "metadata": {},
   "source": [
    "The above graph clearly shows there is not much difference between the grades based on location."
   ]
  },
  {
   "cell_type": "code",
   "execution_count": null,
   "id": "86872be1",
   "metadata": {},
   "outputs": [],
   "source": [
    "stud.corr()['G3'].sort_values()"
   ]
  },
  {
   "cell_type": "markdown",
   "id": "a1835108",
   "metadata": {},
   "source": [
    "failures     -0.360415\n",
    "age          -0.161579\n",
    "goout        -0.132791\n",
    "traveltime   -0.117142\n",
    "health       -0.061335\n",
    "Dalc         -0.054660\n",
    "Walc         -0.051939\n",
    "freetime      0.011307\n",
    "absences      0.034247\n",
    "famrel        0.051363\n",
    "studytime     0.097820\n",
    "Fedu          0.152457\n",
    "Medu          0.217147\n",
    "G1            0.801468\n",
    "G2            0.904868\n",
    "G3            1.000000\n",
    "Name: G3, dtype: float64"
   ]
  },
  {
   "cell_type": "markdown",
   "id": "b89beabe",
   "metadata": {},
   "source": [
    "### Encoding categorical variables using LabelEncoder() "
   ]
  },
  {
   "cell_type": "code",
   "execution_count": null,
   "id": "cea8a101",
   "metadata": {},
   "outputs": [],
   "source": [
    "from sklearn.preprocessing import LabelEncoder\n",
    "le=LabelEncoder()\n",
    "stud.iloc[:,0]=le.fit_transform(stud.iloc[:,0])\n",
    "stud.iloc[:,1]=le.fit_transform(stud.iloc[:,1])\n",
    "stud.iloc[:,3]=le.fit_transform(stud.iloc[:,3])\n",
    "stud.iloc[:,4]=le.fit_transform(stud.iloc[:,4])\n",
    "stud.iloc[:,5]=le.fit_transform(stud.iloc[:,5])\n",
    "stud.iloc[:,8]=le.fit_transform(stud.iloc[:,8])\n",
    "stud.iloc[:,9]=le.fit_transform(stud.iloc[:,9])\n",
    "stud.iloc[:,10]=le.fit_transform(stud.iloc[:,10])\n",
    "stud.iloc[:,11]=le.fit_transform(stud.iloc[:,11])\n",
    "stud.iloc[:,15]=le.fit_transform(stud.iloc[:,15])\n",
    "stud.iloc[:,16]=le.fit_transform(stud.iloc[:,16])\n",
    "stud.iloc[:,17]=le.fit_transform(stud.iloc[:,17])\n",
    "stud.iloc[:,18]=le.fit_transform(stud.iloc[:,18])\n",
    "stud.iloc[:,19]=le.fit_transform(stud.iloc[:,19])\n",
    "stud.iloc[:,20]=le.fit_transform(stud.iloc[:,20])\n",
    "stud.iloc[:,21]=le.fit_transform(stud.iloc[:,21])\n",
    "stud.iloc[:,22]=le.fit_transform(stud.iloc[:,22])"
   ]
  },
  {
   "cell_type": "code",
   "execution_count": null,
   "id": "3aa261a7",
   "metadata": {},
   "outputs": [],
   "source": [
    "stud.head()"
   ]
  },
  {
   "cell_type": "markdown",
   "id": "f9ea0d99",
   "metadata": {},
   "source": [
    "\tschool\tsex\tage\taddress\tfamsize\tPstatus\tMedu\tFedu\tMjob\tFjob\t...\tfamrel\tfreetime\tgoout\tDalc\tWalc\thealth\tabsences\tG1\tG2\tG3\n",
    "0\t0\t0\t18\t1\t0\t0\t4\t4\t0\t4\t...\t4\t3\t4\t1\t1\t3\t6\t5\t6\t6\n",
    "1\t0\t0\t17\t1\t0\t1\t1\t1\t0\t2\t...\t5\t3\t3\t1\t1\t3\t4\t5\t5\t6\n",
    "2\t0\t0\t15\t1\t1\t1\t1\t1\t0\t2\t...\t4\t3\t2\t2\t3\t3\t10\t7\t8\t10\n",
    "3\t0\t0\t15\t1\t0\t1\t4\t2\t1\t3\t...\t3\t2\t2\t1\t1\t5\t2\t15\t14\t15\n",
    "4\t0\t0\t16\t1\t0\t1\t3\t3\t2\t2\t...\t4\t3\t2\t1\t2\t5\t4\t6\t10\t10\n",
    "5 rows × 33 columns"
   ]
  },
  {
   "cell_type": "code",
   "execution_count": null,
   "id": "bbb06d93",
   "metadata": {},
   "outputs": [],
   "source": [
    "stud.tail()"
   ]
  },
  {
   "cell_type": "markdown",
   "id": "27d4511d",
   "metadata": {},
   "source": [
    "\tschool\tsex\tage\taddress\tfamsize\tPstatus\tMedu\tFedu\tMjob\tFjob\t...\tfamrel\tfreetime\tgoout\tDalc\tWalc\thealth\tabsences\tG1\tG2\tG3\n",
    "390\t1\t1\t20\t1\t1\t0\t2\t2\t3\t3\t...\t5\t5\t4\t4\t5\t4\t11\t9\t9\t9\n",
    "391\t1\t1\t17\t1\t1\t1\t3\t1\t3\t3\t...\t2\t4\t5\t3\t4\t2\t3\t14\t16\t16\n",
    "392\t1\t1\t21\t0\t0\t1\t1\t1\t2\t2\t...\t5\t5\t3\t3\t3\t3\t3\t10\t8\t7\n",
    "393\t1\t1\t18\t0\t1\t1\t3\t2\t3\t2\t...\t4\t4\t1\t3\t4\t5\t0\t11\t12\t10\n",
    "394\t1\t1\t19\t1\t1\t1\t1\t1\t2\t0\t...\t3\t2\t3\t3\t3\t5\t5\t8\t9\t9\n",
    "5 rows × 33 columns"
   ]
  },
  {
   "cell_type": "code",
   "execution_count": null,
   "id": "eb7badfa",
   "metadata": {},
   "outputs": [],
   "source": [
    "stud.corr()['G3'].sort_values()    # Correlation wrt G3"
   ]
  },
  {
   "cell_type": "markdown",
   "id": "2fdc1937",
   "metadata": {},
   "source": [
    "failures     -0.360415\n",
    "age          -0.161579\n",
    "goout        -0.132791\n",
    "romantic     -0.129970\n",
    "traveltime   -0.117142\n",
    "schoolsup    -0.082788\n",
    "guardian     -0.070109\n",
    "health       -0.061335\n",
    "Pstatus      -0.058009\n",
    "Dalc         -0.054660\n",
    "Walc         -0.051939\n",
    "school       -0.045017\n",
    "famsup       -0.039157\n",
    "freetime      0.011307\n",
    "activities    0.016100\n",
    "absences      0.034247\n",
    "Fjob          0.042286\n",
    "famrel        0.051363\n",
    "nursery       0.051568\n",
    "famsize       0.081407\n",
    "studytime     0.097820\n",
    "internet      0.098483\n",
    "paid          0.101996\n",
    "Mjob          0.102082\n",
    "sex           0.103456\n",
    "address       0.105756\n",
    "reason        0.121994\n",
    "Fedu          0.152457\n",
    "higher        0.182465\n",
    "Medu          0.217147\n",
    "G1            0.801468\n",
    "G2            0.904868\n",
    "G3            1.000000\n",
    "Name: G3, dtype: float64"
   ]
  },
  {
   "cell_type": "code",
   "execution_count": null,
   "id": "2a261411",
   "metadata": {},
   "outputs": [],
   "source": [
    "# drop the school and grade columns\n",
    "stud = stud.drop(['school', 'G1', 'G2'], axis='columns')"
   ]
  },
  {
   "cell_type": "markdown",
   "id": "6384bc11",
   "metadata": {},
   "source": [
    "Although G1 and G2 which are period grades of a student and are highly correlated to the final grade G3, we drop them. It is more difficult to predict G3 without G2 and G1, but such prediction is much more useful because we want to find other factors affect the grade."
   ]
  },
  {
   "cell_type": "code",
   "execution_count": null,
   "id": "5c1de94d",
   "metadata": {},
   "outputs": [],
   "source": [
    "# Find correlations with the Grade\n",
    "most_correlated = stud.corr().abs()['G3'].sort_values(ascending=False)\n",
    "\n",
    "# Maintain the top 8 most correlation features with Grade\n",
    "most_correlated = most_correlated[:9]\n",
    "most_correlated"
   ]
  },
  {
   "cell_type": "markdown",
   "id": "5f0872c2",
   "metadata": {},
   "source": [
    "G3          1.000000\n",
    "failures    0.360415\n",
    "Medu        0.217147\n",
    "higher      0.182465\n",
    "age         0.161579\n",
    "Fedu        0.152457\n",
    "goout       0.132791\n",
    "romantic    0.129970\n",
    "reason      0.121994\n",
    "Name: G3, dtype: float64"
   ]
  },
  {
   "cell_type": "code",
   "execution_count": null,
   "id": "c70d6811",
   "metadata": {},
   "outputs": [],
   "source": [
    "stud = stud.loc[:, most_correlated.index]\n",
    "stud.head()"
   ]
  },
  {
   "cell_type": "markdown",
   "id": "928ed659",
   "metadata": {},
   "source": [
    "\n",
    "G3\tfailures\tMedu\thigher\tage\tFedu\tgoout\tromantic\treason\n",
    "0\t6\t0\t4\t1\t18\t4\t4\t0\t0\n",
    "1\t6\t0\t1\t1\t17\t1\t3\t0\t0\n",
    "2\t10\t3\t1\t1\t15\t1\t2\t0\t2\n",
    "3\t15\t0\t4\t1\t15\t2\t2\t1\t1\n",
    "4\t10\t0\t3\t1\t16\t3\t2\t0\t1"
   ]
  },
  {
   "cell_type": "markdown",
   "id": "3655d09e",
   "metadata": {},
   "source": [
    "### Failure Attribute"
   ]
  },
  {
   "cell_type": "code",
   "execution_count": null,
   "id": "d356d06f",
   "metadata": {},
   "outputs": [],
   "source": [
    "b = sns.swarmplot(x=stud['failures'],y=stud['G3'],palette='autumn')\n",
    "b.axes.set_title('Previous Failures vs Final Grade(G3)')"
   ]
  },
  {
   "cell_type": "markdown",
   "id": "04afe0d5",
   "metadata": {},
   "source": [
    "Text(0.5, 1.0, 'Previous Failures vs Final Grade(G3)')\n",
    "\n",
    "Observation : Student with less previous failures usually score higher"
   ]
  },
  {
   "cell_type": "markdown",
   "id": "362e6034",
   "metadata": {},
   "source": [
    "### Family Education Attribute ( Fedu + Medu )"
   ]
  },
  {
   "cell_type": "code",
   "execution_count": null,
   "id": "c1ad4ce2",
   "metadata": {},
   "outputs": [],
   "source": [
    "fa_edu = stud['Fedu'] + stud['Medu']\n",
    "b = sns.swarmplot(x=fa_edu,y=stud['G3'],palette='summer')\n",
    "b.axes.set_title('Family Education vs Final Grade(G3)')"
   ]
  },
  {
   "cell_type": "markdown",
   "id": "b3370d31",
   "metadata": {},
   "source": [
    "Text(0.5, 1.0, 'Family Education vs Final Grade(G3)')\n",
    "\n",
    "Observation : Educated families result in higher grades"
   ]
  },
  {
   "cell_type": "markdown",
   "id": "55ea985f",
   "metadata": {},
   "source": [
    "### Wish to go for Higher Education Attribute"
   ]
  },
  {
   "cell_type": "code",
   "execution_count": null,
   "id": "a83ad6ae",
   "metadata": {},
   "outputs": [],
   "source": [
    "b = sns.boxplot(x=stud['higher'],y=stud['G3'],palette='binary')\n",
    "b.axes.set_title('Higher Education vs Final Grade(G3)'"
   ]
  },
  {
   "cell_type": "code",
   "execution_count": null,
   "id": "ebe5aacd",
   "metadata": {},
   "outputs": [],
   "source": [
    "Text(0.5, 1.0, 'Higher Education vs Final Grade(G3)')\n",
    "\n",
    "Observation : Students who wish to go for higher studies score more"
   ]
  },
  {
   "cell_type": "markdown",
   "id": "1e8f053b",
   "metadata": {},
   "source": [
    "### Going Out with Friends Attribute"
   ]
  },
  {
   "cell_type": "code",
   "execution_count": null,
   "id": "1b71ae38",
   "metadata": {},
   "outputs": [],
   "source": [
    "b = sns.countplot(x=stud['goout'],palette='OrRd')\n",
    "b.axes.set_title('Go Out vs Final Grade(G3)')"
   ]
  },
  {
   "cell_type": "markdown",
   "id": "e71a9708",
   "metadata": {},
   "source": [
    "Text(0.5, 1.0, 'Go Out vs Final Grade(G3)')\n",
    "\n",
    "Observation : The students have an average score when it comes to going out with friends."
   ]
  },
  {
   "cell_type": "code",
   "execution_count": null,
   "id": "b5e072ab",
   "metadata": {},
   "outputs": [],
   "source": [
    "b = sns.swarmplot(x=stud['goout'],y=stud['G3'],palette='autumn')\n",
    "b.axes.set_title('Go Out vs Final Grade(G3)')"
   ]
  },
  {
   "cell_type": "markdown",
   "id": "5796abd8",
   "metadata": {},
   "source": [
    "Text(0.5, 1.0, 'Go Out vs Final Grade(G3)')\n",
    "\n",
    "Observation : Students who go out a lot score less"
   ]
  },
  {
   "cell_type": "markdown",
   "id": "cf317e52",
   "metadata": {},
   "source": [
    "### Romantic relationship Attribute "
   ]
  },
  {
   "cell_type": "code",
   "execution_count": null,
   "id": "36568c8a",
   "metadata": {},
   "outputs": [],
   "source": [
    "b = sns.swarmplot(x=stud['romantic'],y=stud['G3'],palette='YlOrBr')\n",
    "b.axes.set_title('Romantic Relationship vs Final Grade(G3)')"
   ]
  },
  {
   "cell_type": "markdown",
   "id": "b956c228",
   "metadata": {},
   "source": [
    "Text(0.5, 1.0, 'Romantic Relationship vs Final Grade(G3)')\n",
    "\n",
    "Here romantic attribute with value 0 means no relationship and value with 1 means in relationship\n",
    "Observation : Students with no romantic relationship score higher"
   ]
  },
  {
   "cell_type": "markdown",
   "id": "1a4679bd",
   "metadata": {},
   "source": [
    "### Reason Attribute"
   ]
  },
  {
   "cell_type": "code",
   "execution_count": null,
   "id": "7eb47033",
   "metadata": {},
   "outputs": [],
   "source": [
    "b = sns.countplot(x='reason',data=stud,palette='gist_rainbow')    # Reason to choose this school\n",
    "b.axes.set_title('Reason vs Students Count')"
   ]
  },
  {
   "cell_type": "markdown",
   "id": "270fd73f",
   "metadata": {},
   "source": [
    "Text(0.5, 1.0, 'Reason vs Students Count')\n"
   ]
  },
  {
   "cell_type": "code",
   "execution_count": null,
   "id": "6dc621cf",
   "metadata": {},
   "outputs": [],
   "source": [
    "b = sns.swarmplot(x='reason', y='G3', data=stud,palette='gist_rainbow')\n",
    "b.axes.set_title('Reason vs Final grade')"
   ]
  },
  {
   "cell_type": "markdown",
   "id": "fc674a64",
   "metadata": {},
   "source": [
    "Text(0.5, 1.0, 'Reason vs Final grade')\n",
    "\n",
    "Observation : The students have an equally distributed average score when it comes to reason attribute."
   ]
  },
  {
   "cell_type": "markdown",
   "id": "2f6ae5a1",
   "metadata": {},
   "source": [
    "## Machine Learning Algorithms"
   ]
  },
  {
   "cell_type": "code",
   "execution_count": null,
   "id": "0fa85e74",
   "metadata": {},
   "outputs": [],
   "source": [
    "# Standard ML Models for comparison\n",
    "from sklearn.linear_model import LinearRegression\n",
    "from sklearn.linear_model import ElasticNet\n",
    "from sklearn.ensemble import RandomForestRegressor\n",
    "from sklearn.ensemble import ExtraTreesRegressor\n",
    "from sklearn.ensemble import GradientBoostingRegressor\n",
    "from sklearn.svm import SVR\n",
    "\n",
    "# Splitting data into training/testing\n",
    "from sklearn.model_selection import train_test_split\n",
    "from sklearn.preprocessing import MinMaxScaler\n",
    "\n",
    "# Metrics\n",
    "from sklearn.metrics import mean_squared_error, mean_absolute_error, median_absolute_error\n",
    "\n",
    "# Distributions\n",
    "import scipy"
   ]
  },
  {
   "cell_type": "code",
   "execution_count": null,
   "id": "98030c0b",
   "metadata": {},
   "outputs": [],
   "source": [
    "# splitting the data into training and testing data (75% and 25%)\n",
    "# we mention the random state to achieve the same split everytime we run the code\n",
    "X_train, X_test, y_train, y_test = train_test_split(stud, stud['G3'], test_size = 0.25, random_state=42)"
   ]
  },
  {
   "cell_type": "code",
   "execution_count": null,
   "id": "41567f2b",
   "metadata": {},
   "outputs": [],
   "source": [
    "X_train.head()"
   ]
  },
  {
   "cell_type": "markdown",
   "id": "63920515",
   "metadata": {},
   "source": [
    "\tG3\tfailures\tMedu\thigher\tage\tFedu\tgoout\tromantic\treason\n",
    "16\t14\t0\t4\t1\t16\t4\t3\t0\t3\n",
    "66\t12\t0\t4\t1\t15\t4\t3\t1\t3\n",
    "211\t13\t0\t4\t1\t17\t4\t5\t1\t1\n",
    "7\t6\t0\t4\t1\t17\t4\t4\t0\t1\n",
    "19\t10\t0\t4\t1\t16\t3\t3\t0\t1"
   ]
  },
  {
   "cell_type": "markdown",
   "id": "56d573ef",
   "metadata": {},
   "source": [
    "### MAE - Mean Absolute Error & RMSE - Root Mean Square Error "
   ]
  },
  {
   "cell_type": "code",
   "execution_count": null,
   "id": "07e80659",
   "metadata": {},
   "outputs": [],
   "source": [
    "# Calculate mae and rmse\n",
    "def evaluate_predictions(predictions, true):\n",
    "    mae = np.mean(abs(predictions - true))\n",
    "    rmse = np.sqrt(np.mean((predictions - true) ** 2))\n",
    "\n",
    "    return mae, rmse"
   ]
  },
  {
   "cell_type": "code",
   "execution_count": null,
   "id": "e5457b44",
   "metadata": {},
   "outputs": [],
   "source": [
    "# find the median\n",
    "median_pred = X_train['G3'].median()\n",
    "\n",
    "# create a list with all values as median\n",
    "median_preds = [median_pred for _ in range(len(X_test))]\n",
    "\n",
    "# store the true G3 values for passing into the function\n",
    "true = X_test['G3']"
   ]
  },
  {
   "cell_type": "code",
   "execution_count": null,
   "id": "a172b0ab",
   "metadata": {},
   "outputs": [],
   "source": [
    "# Display the naive baseline metrics\n",
    "mb_mae, mb_rmse = evaluate_predictions(median_preds, true)\n",
    "print('Median Baseline  MAE: {:.4f}'.format(mb_mae))\n",
    "print('Median Baseline RMSE: {:.4f}'.format(mb_rmse))"
   ]
  },
  {
   "cell_type": "markdown",
   "id": "7b480572",
   "metadata": {},
   "source": [
    "Median Baseline  MAE: 3.7879\n",
    "Median Baseline RMSE: 4.8252"
   ]
  },
  {
   "cell_type": "code",
   "execution_count": null,
   "id": "874a362f",
   "metadata": {},
   "outputs": [],
   "source": [
    "# Evaluate several ml models by training on training set and testing on testing set\n",
    "def evaluate(X_train, X_test, y_train, y_test):\n",
    "    # Names of models\n",
    "    model_name_list = ['Linear Regression', 'ElasticNet Regression',\n",
    "                      'Random Forest', 'Extra Trees', 'SVM',\n",
    "                       'Gradient Boosted', 'Baseline']\n",
    "    X_train = X_train.drop('G3', axis='columns')\n",
    "    X_test = X_test.drop('G3', axis='columns')\n",
    "    \n",
    "    # Instantiate the models\n",
    "    model1 = LinearRegression()\n",
    "    model2 = ElasticNet(alpha=1.0, l1_ratio=0.5)\n",
    "    model3 = RandomForestRegressor(n_estimators=100)\n",
    "    model4 = ExtraTreesRegressor(n_estimators=100)\n",
    "    model5 = SVR(kernel='rbf', degree=3, C=1.0, gamma='auto')\n",
    "    model6 = GradientBoostingRegressor(n_estimators=50)\n",
    "    \n",
    "    # Dataframe for results\n",
    "    results = pd.DataFrame(columns=['mae', 'rmse'], index = model_name_list)\n",
    "    \n",
    "    # Train and predict with each model\n",
    "    for i, model in enumerate([model1, model2, model3, model4, model5, model6]):\n",
    "        model.fit(X_train, y_train)\n",
    "        predictions = model.predict(X_test)\n",
    "        \n",
    "        # Metrics\n",
    "        mae = np.mean(abs(predictions - y_test))\n",
    "        rmse = np.sqrt(np.mean((predictions - y_test) ** 2))\n",
    "        \n",
    "        # Insert results into the dataframe\n",
    "        model_name = model_name_list[i]\n",
    "        results.loc[model_name, :] = [mae, rmse]\n",
    "    \n",
    "    # Median Value Baseline Metrics\n",
    "    baseline = np.median(y_train)\n",
    "    baseline_mae = np.mean(abs(baseline - y_test))\n",
    "    baseline_rmse = np.sqrt(np.mean((baseline - y_test) ** 2))\n",
    "    \n",
    "    results.loc['Baseline', :] = [baseline_mae, baseline_rmse]\n",
    "    \n",
    "    return results"
   ]
  },
  {
   "cell_type": "code",
   "execution_count": null,
   "id": "c7f7d088",
   "metadata": {},
   "outputs": [],
   "source": [
    "results = evaluate(X_train, X_test, y_train, y_test)\n",
    "results"
   ]
  },
  {
   "cell_type": "code",
   "execution_count": null,
   "id": "207d078d",
   "metadata": {},
   "outputs": [],
   "source": [
    "\t                   mae\t            rmse\n",
    "Linear Regression\t  3.48512\t        4.4326\n",
    "ElasticNet Regression 3.60805\t        4.57327\n",
    "Random Forest\t      3.72601\t        4.61621\n",
    "Extra Trees\t          3.7797\t        4.77882\n",
    "SVM\t                  3.54927\t        4.58147\n",
    "Gradient Boosted\t  3.57244\t        4.50059\n",
    "Baseline\t          3.78788\t        4.82523"
   ]
  },
  {
   "cell_type": "code",
   "execution_count": null,
   "id": "da26bb48",
   "metadata": {},
   "outputs": [],
   "source": [
    "plt.figure(figsize=(12, 7))\n",
    "\n",
    "# Root mean squared error\n",
    "ax =  plt.subplot(1, 2, 1)\n",
    "results.sort_values('mae', ascending = True).plot.bar(y = 'mae', color = 'violet', ax = ax)\n",
    "plt.title('Model Mean Absolute Error') \n",
    "plt.ylabel('MAE')\n",
    "\n",
    "# Median absolute percentage error\n",
    "ax = plt.subplot(1, 2, 2)\n",
    "results.sort_values('rmse', ascending = True).plot.bar(y = 'rmse', color = 'pink', ax = ax)\n",
    "plt.title('Model Root Mean Squared Error') \n",
    "plt.ylabel('RMSE')\n",
    "\n",
    "plt.show()"
   ]
  },
  {
   "cell_type": "code",
   "execution_count": null,
   "id": "ebea3f09",
   "metadata": {},
   "outputs": [],
   "source": [
    "\n",
    "Conclusion: As we see both Model Mean Absolute Error & Model Root Mean Squared Error that the linear regression is performing the best in both cases"
   ]
  }
 ],
 "metadata": {
  "kernelspec": {
   "display_name": "Python 3 (ipykernel)",
   "language": "python",
   "name": "python3"
  },
  "language_info": {
   "codemirror_mode": {
    "name": "ipython",
    "version": 3
   },
   "file_extension": ".py",
   "mimetype": "text/x-python",
   "name": "python",
   "nbconvert_exporter": "python",
   "pygments_lexer": "ipython3",
   "version": "3.9.12"
  }
 },
 "nbformat": 4,
 "nbformat_minor": 5
}
