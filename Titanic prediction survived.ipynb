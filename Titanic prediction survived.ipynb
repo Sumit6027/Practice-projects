{
 "cells": [
  {
   "cell_type": "markdown",
   "id": "a92b58a9",
   "metadata": {},
   "source": [
    "# "
   ]
  },
  {
   "cell_type": "markdown",
   "id": "5b8b807e",
   "metadata": {},
   "source": [
    "# Titanic-Survival-Prediction\n"
   ]
  },
  {
   "cell_type": "code",
   "execution_count": null,
   "id": "e23d5bbb",
   "metadata": {},
   "outputs": [],
   "source": [
    "#Importing All Required Libaries\n",
    "import pandas as pd\n",
    "import numpy as np\n",
    "import matplotlib.pyplot as plt\n",
    "\n",
    "from warnings import filterwarnings\n",
    "filterwarnings(action='ignore')"
   ]
  },
  {
   "cell_type": "code",
   "execution_count": null,
   "id": "1f8205e3",
   "metadata": {},
   "outputs": [],
   "source": [
    "#Loading Datasets\n",
    "pd.set_option('display.max_columns',10,'display.width',1000)\n",
    "train = pd.read_csv('train.csv')\n",
    "test = pd.read_csv('test.csv')\n",
    "train.head()"
   ]
  },
  {
   "cell_type": "markdown",
   "id": "71a53293",
   "metadata": {},
   "source": [
    "PassengerId\tSurvived\tPclass\tName\tSex\t...\tParch\tTicket\tFare\tCabin\tEmbarked\n",
    "0\t1\t0\t3\tBraund, Mr. Owen Harris\tmale\t...\t0\tA/5 21171\t7.2500\tNaN\tS\n",
    "1\t2\t1\t1\tCumings, Mrs. John Bradley (Florence Briggs Th...\tfemale\t...\t0\tPC 17599\t71.2833\tC85\tC\n",
    "2\t3\t1\t3\tHeikkinen, Miss. Laina\tfemale\t...\t0\tSTON/O2. 3101282\t7.9250\tNaN\tS\n",
    "3\t4\t1\t1\tFutrelle, Mrs. Jacques Heath (Lily May Peel)\tfemale\t...\t0\t113803\t53.1000\tC123\tS\n",
    "4\t5\t0\t3\tAllen, Mr. William Henry\tmale\t...\t0\t373450\t8.0500\tNaN\tS\n",
    "5 rows × 12 columns"
   ]
  },
  {
   "cell_type": "code",
   "execution_count": null,
   "id": "4e069524",
   "metadata": {},
   "outputs": [],
   "source": [
    "#Display shape\n",
    "train.shape"
   ]
  },
  {
   "cell_type": "markdown",
   "id": "6381b518",
   "metadata": {},
   "source": [
    "(891, 12)"
   ]
  },
  {
   "cell_type": "code",
   "execution_count": null,
   "id": "1812834b",
   "metadata": {},
   "outputs": [],
   "source": [
    "test.shape"
   ]
  },
  {
   "cell_type": "markdown",
   "id": "f403044f",
   "metadata": {},
   "source": [
    "(418, 11)"
   ]
  },
  {
   "cell_type": "code",
   "execution_count": null,
   "id": "d377666c",
   "metadata": {},
   "outputs": [],
   "source": [
    "#Checking for Null values\n",
    "train.isnull().sum()"
   ]
  },
  {
   "cell_type": "markdown",
   "id": "cd593a91",
   "metadata": {},
   "source": [
    "PassengerId      0\n",
    "Survived         0\n",
    "Pclass           0\n",
    "Name             0\n",
    "Sex              0\n",
    "Age            177\n",
    "SibSp            0\n",
    "Parch            0\n",
    "Ticket           0\n",
    "Fare             0\n",
    "Cabin          687\n",
    "Embarked         2\n",
    "dtype: int64"
   ]
  },
  {
   "cell_type": "code",
   "execution_count": null,
   "id": "2d193ba1",
   "metadata": {},
   "outputs": [],
   "source": [
    "test.isnull().sum()"
   ]
  },
  {
   "cell_type": "code",
   "execution_count": null,
   "id": "4d027115",
   "metadata": {},
   "outputs": [],
   "source": [
    "PassengerId      0\n",
    "Pclass           0\n",
    "Name             0\n",
    "Sex              0\n",
    "Age             86\n",
    "SibSp            0\n",
    "Parch            0\n",
    "Ticket           0\n",
    "Fare             1\n",
    "Cabin          327\n",
    "Embarked         0\n",
    "dtype: int64"
   ]
  },
  {
   "cell_type": "code",
   "execution_count": null,
   "id": "8dcef349",
   "metadata": {},
   "outputs": [],
   "source": [
    "#Description of dataset\n",
    "train.describe(include=\"all\")"
   ]
  },
  {
   "cell_type": "markdown",
   "id": "677c1142",
   "metadata": {},
   "source": [
    "PassengerId\tSurvived\tPclass\tName\tSex\t...\tParch\tTicket\tFare\tCabin\tEmbarked\n",
    "count\t891.000000\t891.000000\t891.000000\t891\t891\t...\t891.000000\t891\t891.000000\t204\t889\n",
    "unique\tNaN\tNaN\tNaN\t891\t2\t...\tNaN\t681\tNaN\t147\t3\n",
    "top\tNaN\tNaN\tNaN\tSaalfeld, Mr. Adolphe\tmale\t...\tNaN\tCA. 2343\tNaN\tB96 B98\tS\n",
    "freq\tNaN\tNaN\tNaN\t1\t577\t...\tNaN\t7\tNaN\t4\t644\n",
    "mean\t446.000000\t0.383838\t2.308642\tNaN\tNaN\t...\t0.381594\tNaN\t32.204208\tNaN\tNaN\n",
    "std\t257.353842\t0.486592\t0.836071\tNaN\tNaN\t...\t0.806057\tNaN\t49.693429\tNaN\tNaN\n",
    "min\t1.000000\t0.000000\t1.000000\tNaN\tNaN\t...\t0.000000\tNaN\t0.000000\tNaN\tNaN\n",
    "25%\t223.500000\t0.000000\t2.000000\tNaN\tNaN\t...\t0.000000\tNaN\t7.910400\tNaN\tNaN\n",
    "50%\t446.000000\t0.000000\t3.000000\tNaN\tNaN\t...\t0.000000\tNaN\t14.454200\tNaN\tNaN\n",
    "75%\t668.500000\t1.000000\t3.000000\tNaN\tNaN\t...\t0.000000\tNaN\t31.000000\tNaN\tNaN\n",
    "max\t891.000000\t1.000000\t3.000000\tNaN\tNaN\t...\t6.000000\tNaN\t512.329200\tNaN\tNaN\n",
    "11 rows × 12 columns\n",
    "\n"
   ]
  },
  {
   "cell_type": "code",
   "execution_count": null,
   "id": "466c7639",
   "metadata": {},
   "outputs": [],
   "source": [
    "train.groupby('Survived').mean()"
   ]
  },
  {
   "cell_type": "markdown",
   "id": "091f5516",
   "metadata": {},
   "source": [
    "\tPassengerId\tPclass\tAge\tSibSp\tParch\tFare\n",
    "Survived\t\t\t\t\t\t\n",
    "0\t447.016393\t2.531876\t30.626179\t0.553734\t0.329690\t22.117887\n",
    "1\t444.368421\t1.950292\t28.343690\t0.473684\t0.464912\t48.395408"
   ]
  },
  {
   "cell_type": "code",
   "execution_count": null,
   "id": "6d8388b6",
   "metadata": {},
   "outputs": [],
   "source": [
    "train.corr()"
   ]
  },
  {
   "cell_type": "markdown",
   "id": "d0d903ac",
   "metadata": {},
   "source": [
    "PassengerId\tSurvived\tPclass\tAge\tSibSp\tParch\tFare\n",
    "PassengerId\t1.000000\t-0.005007\t-0.035144\t0.036847\t-0.057527\t-0.001652\t0.012658\n",
    "Survived\t-0.005007\t1.000000\t-0.338481\t-0.077221\t-0.035322\t0.081629\t0.257307\n",
    "Pclass\t-0.035144\t-0.338481\t1.000000\t-0.369226\t0.083081\t0.018443\t-0.549500\n",
    "Age\t0.036847\t-0.077221\t-0.369226\t1.000000\t-0.308247\t-0.189119\t0.096067\n",
    "SibSp\t-0.057527\t-0.035322\t0.083081\t-0.308247\t1.000000\t0.414838\t0.159651\n",
    "Parch\t-0.001652\t0.081629\t0.018443\t-0.189119\t0.414838\t1.000000\t0.216225\n",
    "Fare\t0.012658\t0.257307\t-0.549500\t0.096067\t0.159651\t0.216225\t1.000000"
   ]
  },
  {
   "cell_type": "code",
   "execution_count": null,
   "id": "38955271",
   "metadata": {},
   "outputs": [],
   "source": [
    "male_ind = len(train[train['Sex'] == 'male'])\n",
    "print(\"No of Males in Titanic:\",male_ind)"
   ]
  },
  {
   "cell_type": "markdown",
   "id": "9f090a14",
   "metadata": {},
   "source": [
    "No of Males in Titanic: 577"
   ]
  },
  {
   "cell_type": "code",
   "execution_count": null,
   "id": "09ab4c9c",
   "metadata": {},
   "outputs": [],
   "source": [
    "female_ind = len(train[train['Sex'] == 'female'])\n",
    "print(\"No of Females in Titanic:\",female_ind)"
   ]
  },
  {
   "cell_type": "markdown",
   "id": "136d36a7",
   "metadata": {},
   "source": [
    "No of Females in Titanic: 314"
   ]
  },
  {
   "cell_type": "code",
   "execution_count": null,
   "id": "1cfe04d5",
   "metadata": {},
   "outputs": [],
   "source": [
    "#Plotting\n",
    "fig = plt.figure()\n",
    "ax = fig.add_axes([0,0,1,1])\n",
    "gender = ['Male','Female']\n",
    "index = [577,314]\n",
    "ax.bar(gender,index)\n",
    "plt.xlabel(\"Gender\")\n",
    "plt.ylabel(\"No of people onboarding ship\")\n",
    "plt.show()"
   ]
  },
  {
   "cell_type": "code",
   "execution_count": null,
   "id": "f90f88c7",
   "metadata": {},
   "outputs": [],
   "source": [
    "alive = len(train[train['Survived'] == 1])\n",
    "dead = len(train[train['Survived'] == 0])"
   ]
  },
  {
   "cell_type": "code",
   "execution_count": null,
   "id": "d663aca3",
   "metadata": {},
   "outputs": [],
   "source": [
    "train.groupby('Sex')[['Survived']].mean()"
   ]
  },
  {
   "cell_type": "markdown",
   "id": "824f2bec",
   "metadata": {},
   "source": [
    "Survived\n",
    "Sex\t\n",
    "female\t0.742038\n",
    "male\t0.188908"
   ]
  },
  {
   "cell_type": "code",
   "execution_count": null,
   "id": "f29a589c",
   "metadata": {},
   "outputs": [],
   "source": [
    "fig = plt.figure()\n",
    "ax = fig.add_axes([0,0,1,1])\n",
    "status = ['Survived','Dead']\n",
    "ind = [alive,dead]\n",
    "ax.bar(status,ind)\n",
    "plt.xlabel(\"Status\")\n",
    "plt.show()\n"
   ]
  },
  {
   "cell_type": "code",
   "execution_count": null,
   "id": "93ff2784",
   "metadata": {},
   "outputs": [],
   "source": [
    "plt.figure(1)\n",
    "train.loc[train['Survived'] == 1, 'Pclass'].value_counts().sort_index().plot.bar()\n",
    "plt.title('Bar graph of people accrding to ticket class in which people survived')\n",
    "\n",
    "\n",
    "plt.figure(2)\n",
    "train.loc[train['Survived'] == 0, 'Pclass'].value_counts().sort_index().plot.bar()\n",
    "plt.title('Bar graph of people accrding to ticket class in which people couldn\\'t survive')"
   ]
  },
  {
   "cell_type": "markdown",
   "id": "e928edaf",
   "metadata": {},
   "source": [
    "Text(0.5, 1.0, \"Bar graph of people accrding to ticket class in which people couldn't survive\")"
   ]
  },
  {
   "cell_type": "code",
   "execution_count": null,
   "id": "34701780",
   "metadata": {},
   "outputs": [],
   "source": [
    "plt.figure(1)\n",
    "age  = train.loc[train.Survived == 1, 'Age']\n",
    "plt.title('The histogram of the age groups of the people that had survived')\n",
    "plt.hist(age, np.arange(0,100,10))\n",
    "plt.xticks(np.arange(0,100,10))\n",
    "\n",
    "\n",
    "plt.figure(2)\n",
    "age  = train.loc[train.Survived == 0, 'Age']\n",
    "plt.title('The histogram of the age groups of the people that coudn\\'t survive')\n",
    "plt.hist(age, np.arange(0,100,10))\n",
    "plt.xticks(np.arange(0,100,10))"
   ]
  },
  {
   "cell_type": "raw",
   "id": "2a2ef4c7",
   "metadata": {},
   "source": [
    "([<matplotlib.axis.XTick at 0x19a393b54c8>,\n",
    "  <matplotlib.axis.XTick at 0x19a393b2b48>,\n",
    "  <matplotlib.axis.XTick at 0x19a393b2708>,\n",
    "  <matplotlib.axis.XTick at 0x19a393f6d08>,\n",
    "  <matplotlib.axis.XTick at 0x19a393fa4c8>,\n",
    "  <matplotlib.axis.XTick at 0x19a393fab88>,\n",
    "  <matplotlib.axis.XTick at 0x19a393ff388>,\n",
    "  <matplotlib.axis.XTick at 0x19a393ffb48>,\n",
    "  <matplotlib.axis.XTick at 0x19a39403348>,\n",
    "  <matplotlib.axis.XTick at 0x19a39403e48>],\n",
    " <a list of 10 Text xticklabel objects>)\n"
   ]
  },
  {
   "cell_type": "code",
   "execution_count": null,
   "id": "a810136b",
   "metadata": {},
   "outputs": [],
   "source": [
    "train[[\"SibSp\", \"Survived\"]].groupby(['SibSp'], as_index=False).mean().sort_values(by='Survived', ascending=False)"
   ]
  },
  {
   "cell_type": "markdown",
   "id": "ed813665",
   "metadata": {},
   "source": [
    "\tSibSp\tSurvived\n",
    "1\t1\t0.535885\n",
    "2\t2\t0.464286\n",
    "0\t0\t0.345395\n",
    "3\t3\t0.250000\n",
    "4\t4\t0.166667\n",
    "5\t5\t0.000000\n",
    "6\t8\t0.000000"
   ]
  },
  {
   "cell_type": "code",
   "execution_count": null,
   "id": "9df7fa9e",
   "metadata": {},
   "outputs": [],
   "source": [
    "train[[\"Pclass\", \"Survived\"]].groupby(['Pclass'], as_index=False).mean().sort_values(by='Survived', ascending=False)"
   ]
  },
  {
   "cell_type": "markdown",
   "id": "ae81d2a2",
   "metadata": {},
   "source": [
    "\tPclass\tSurvived\n",
    "0\t1\t0.629630\n",
    "1\t2\t0.472826\n",
    "2\t3\t0.242363"
   ]
  },
  {
   "cell_type": "code",
   "execution_count": null,
   "id": "a4bd082d",
   "metadata": {},
   "outputs": [],
   "source": [
    "train[[\"Age\", \"Survived\"]].groupby(['Age'], as_index=False).mean().sort_values(by='Age', ascending=True)"
   ]
  },
  {
   "cell_type": "markdown",
   "id": "9eb22ab2",
   "metadata": {},
   "source": [
    "\tAge\tSurvived\n",
    "0\t0.42\t1.0\n",
    "1\t0.67\t1.0\n",
    "2\t0.75\t1.0\n",
    "3\t0.83\t1.0\n",
    "4\t0.92\t1.0\n",
    "...\t...\t...\n",
    "83\t70.00\t0.0\n",
    "84\t70.50\t0.0\n",
    "85\t71.00\t0.0\n",
    "86\t74.00\t0.0\n",
    "87\t80.00\t1.0\n",
    "88 rows × 2 columns"
   ]
  },
  {
   "cell_type": "code",
   "execution_count": null,
   "id": "b19e5c8b",
   "metadata": {},
   "outputs": [],
   "source": [
    "train[[\"Embarked\", \"Survived\"]].groupby(['Embarked'], as_index=False).mean().sort_values(by='Survived', ascending=False)"
   ]
  },
  {
   "cell_type": "markdown",
   "id": "b7f58a60",
   "metadata": {},
   "source": [
    "Embarked\tSurvived\n",
    "0\tC\t0.553571\n",
    "1\tQ\t0.389610\n",
    "2\tS\t0.336957"
   ]
  },
  {
   "cell_type": "code",
   "execution_count": null,
   "id": "a3a3c1bd",
   "metadata": {},
   "outputs": [],
   "source": [
    "fig = plt.figure()\n",
    "ax = fig.add_axes([0,0,1,1])\n",
    "ax.axis('equal')\n",
    "l = ['C = Cherbourg', 'Q = Queenstown', 'S = Southampton']\n",
    "s = [0.553571,0.389610,0.336957]\n",
    "ax.pie(s, labels = l,autopct='%1.2f%%')\n",
    "plt.show()"
   ]
  },
  {
   "cell_type": "code",
   "execution_count": null,
   "id": "8f69c1bf",
   "metadata": {},
   "outputs": [],
   "source": [
    "test.describe(include=\"all\")"
   ]
  },
  {
   "cell_type": "markdown",
   "id": "a05c1e29",
   "metadata": {},
   "source": [
    "\tPassengerId\tPclass\tName\tSex\tAge\t...\tParch\tTicket\tFare\tCabin\tEmbarked\n",
    "count\t418.000000\t418.000000\t418\t418\t332.000000\t...\t418.000000\t418\t417.000000\t91\t418\n",
    "unique\tNaN\tNaN\t418\t2\tNaN\t...\tNaN\t363\tNaN\t76\t3\n",
    "top\tNaN\tNaN\tPortaluppi, Mr. Emilio Ilario Giuseppe\tmale\tNaN\t...\tNaN\tPC 17608\tNaN\tB57 B59 B63 B66\tS\n",
    "freq\tNaN\tNaN\t1\t266\tNaN\t...\tNaN\t5\tNaN\t3\t270\n",
    "mean\t1100.500000\t2.265550\tNaN\tNaN\t30.272590\t...\t0.392344\tNaN\t35.627188\tNaN\tNaN\n",
    "std\t120.810458\t0.841838\tNaN\tNaN\t14.181209\t...\t0.981429\tNaN\t55.907576\tNaN\tNaN\n",
    "min\t892.000000\t1.000000\tNaN\tNaN\t0.170000\t...\t0.000000\tNaN\t0.000000\tNaN\tNaN\n",
    "25%\t996.250000\t1.000000\tNaN\tNaN\t21.000000\t...\t0.000000\tNaN\t7.895800\tNaN\tNaN\n",
    "50%\t1100.500000\t3.000000\tNaN\tNaN\t27.000000\t...\t0.000000\tNaN\t14.454200\tNaN\tNaN\n",
    "75%\t1204.750000\t3.000000\tNaN\tNaN\t39.000000\t...\t0.000000\tNaN\t31.500000\tNaN\tNaN\n",
    "max\t1309.000000\t3.000000\tNaN\tNaN\t76.000000\t...\t9.000000\tNaN\t512.329200\tNaN\tNaN\n",
    "11 rows × 11 columns"
   ]
  },
  {
   "cell_type": "code",
   "execution_count": null,
   "id": "470d6f64",
   "metadata": {},
   "outputs": [],
   "source": [
    "#Droping Useless Columns\n",
    "train = train.drop(['Ticket'], axis = 1)\n",
    "test = test.drop(['Ticket'], axis = 1)"
   ]
  },
  {
   "cell_type": "code",
   "execution_count": null,
   "id": "17abdbc6",
   "metadata": {},
   "outputs": [],
   "source": [
    "train = train.drop(['Cabin'], axis = 1)\n",
    "test = test.drop(['Cabin'], axis = 1)"
   ]
  },
  {
   "cell_type": "code",
   "execution_count": null,
   "id": "030a5488",
   "metadata": {},
   "outputs": [],
   "source": [
    "train = train.drop(['Name'], axis = 1)\n",
    "test = test.drop(['Name'], axis = 1)"
   ]
  },
  {
   "cell_type": "code",
   "execution_count": null,
   "id": "bafb8a94",
   "metadata": {},
   "outputs": [],
   "source": [
    "#Feature Selection\n",
    "column_train=['Age','Pclass','SibSp','Parch','Fare','Sex','Embarked']\n",
    "#training values\n",
    "X=train[column_train]\n",
    "#target value\n",
    "Y=train['Survived']"
   ]
  },
  {
   "cell_type": "code",
   "execution_count": null,
   "id": "657c90c3",
   "metadata": {},
   "outputs": [],
   "source": [
    "X['Age'].isnull().sum()\n",
    "X['Pclass'].isnull().sum()\n",
    "X['SibSp'].isnull().sum()\n",
    "X['Parch'].isnull().sum()\n",
    "X['Fare'].isnull().sum()\n",
    "X['Sex'].isnull().sum()\n",
    "X['Embarked'].isnull().sum()"
   ]
  },
  {
   "cell_type": "markdown",
   "id": "b20d8b9d",
   "metadata": {},
   "source": [
    "2"
   ]
  },
  {
   "cell_type": "code",
   "execution_count": null,
   "id": "52cdbf9a",
   "metadata": {},
   "outputs": [],
   "source": [
    "#now we have to fill all the missing values\n",
    "#age have 177  missing values\n",
    "#either we fill missing values with mean or median form existing values \n",
    "X['Age']=X['Age'].fillna(X['Age'].median())\n",
    "X['Age'].isnull().sum()"
   ]
  },
  {
   "cell_type": "markdown",
   "id": "84f62816",
   "metadata": {},
   "source": [
    "0"
   ]
  },
  {
   "cell_type": "code",
   "execution_count": null,
   "id": "9d2a2966",
   "metadata": {},
   "outputs": [],
   "source": [
    "X['Embarked'] = train['Embarked'].fillna(method ='pad')\n",
    "X['Embarked'].isnull().sum()\n"
   ]
  },
  {
   "cell_type": "markdown",
   "id": "c476e1a7",
   "metadata": {},
   "source": [
    "0"
   ]
  },
  {
   "cell_type": "code",
   "execution_count": null,
   "id": "7277dc9f",
   "metadata": {},
   "outputs": [],
   "source": [
    "#now we need to convert sex into integer value \n",
    "d={'male':0, 'female':1}\n",
    "X['Sex']=X['Sex'].apply(lambda x:d[x])\n",
    "X['Sex'].head()"
   ]
  },
  {
   "cell_type": "markdown",
   "id": "e1882d60",
   "metadata": {},
   "source": [
    "0    0\n",
    "1    1\n",
    "2    1\n",
    "3    1\n",
    "4    0\n",
    "Name: Sex, dtype: int64"
   ]
  },
  {
   "cell_type": "code",
   "execution_count": null,
   "id": "65c84910",
   "metadata": {},
   "outputs": [],
   "source": [
    "e={'C':0, 'Q':1 ,'S':2}\n",
    "X['Embarked']=X['Embarked'].apply(lambda x:e[x])\n",
    "X['Embarked'].head()\n"
   ]
  },
  {
   "cell_type": "markdown",
   "id": "74eceaf5",
   "metadata": {},
   "source": [
    "0    2\n",
    "1    0\n",
    "2    2\n",
    "3    2\n",
    "4    2\n",
    "Name: Embarked, dtype: int64"
   ]
  },
  {
   "cell_type": "code",
   "execution_count": null,
   "id": "922c77e5",
   "metadata": {},
   "outputs": [],
   "source": [
    "#Training Testing and Spliting the model\n",
    "from sklearn.model_selection import train_test_split\n",
    "X_train, X_test, Y_train, Y_test = train_test_split(X,Y,test_size=0.3,random_state=7)"
   ]
  },
  {
   "cell_type": "code",
   "execution_count": null,
   "id": "f445931c",
   "metadata": {},
   "outputs": [],
   "source": [
    "#Using LogisticRegression\n",
    "from sklearn.linear_model import LogisticRegression\n",
    "model = LogisticRegression()\n",
    "model.fit(X_train,Y_train)\n",
    "Y_pred = model.predict(X_test)\n",
    "\n",
    "from sklearn.metrics import accuracy_score\n",
    "print(\"Accuracy Score:\",accuracy_score(Y_test,Y_pred))"
   ]
  },
  {
   "cell_type": "code",
   "execution_count": null,
   "id": "99971172",
   "metadata": {},
   "outputs": [],
   "source": [
    "Accuracy Score: 0.7574626865671642"
   ]
  },
  {
   "cell_type": "code",
   "execution_count": null,
   "id": "a8b590eb",
   "metadata": {},
   "outputs": [],
   "source": [
    "#Confusion Matrix\n",
    "from sklearn.metrics import accuracy_score,confusion_matrix\n",
    "confusion_mat = confusion_matrix(Y_test,Y_pred)\n",
    "print(confusion_mat)"
   ]
  },
  {
   "cell_type": "markdown",
   "id": "4d0eae10",
   "metadata": {},
   "source": [
    "[[130  26]\n",
    " [ 39  73]]"
   ]
  },
  {
   "cell_type": "code",
   "execution_count": null,
   "id": "70e9db3d",
   "metadata": {},
   "outputs": [],
   "source": [
    "#Using Support Vector\n",
    "from sklearn.svm import SVC\n",
    "model1 = SVC()\n",
    "model1.fit(X_train,Y_train)\n",
    "\n",
    "pred_y = model1.predict(X_test)\n",
    "\n",
    "from sklearn.metrics import accuracy_score\n",
    "print(\"Acc=\",accuracy_score(Y_test,pred_y))"
   ]
  },
  {
   "cell_type": "markdown",
   "id": "80239ec7",
   "metadata": {},
   "source": [
    "Acc= 0.6604477611940298"
   ]
  },
  {
   "cell_type": "code",
   "execution_count": null,
   "id": "2d05253d",
   "metadata": {},
   "outputs": [],
   "source": [
    "from sklearn.metrics import accuracy_score,confusion_matrix,classification_report\n",
    "confusion_mat = confusion_matrix(Y_test,pred_y)\n",
    "print(confusion_mat)\n",
    "print(classification_report(Y_test,pred_y))"
   ]
  },
  {
   "cell_type": "raw",
   "id": "994fc6ab",
   "metadata": {},
   "source": [
    "[[149   7]\n",
    " [ 84  28]]\n",
    "              precision    recall  f1-score   support\n",
    "\n",
    "           0       0.64      0.96      0.77       156\n",
    "           1       0.80      0.25      0.38       112\n",
    "\n",
    "    accuracy                           0.66       268\n",
    "   macro avg       0.72      0.60      0.57       268\n",
    "weighted avg       0.71      0.66      0.61       268"
   ]
  },
  {
   "cell_type": "code",
   "execution_count": null,
   "id": "42a6fb99",
   "metadata": {},
   "outputs": [],
   "source": [
    "#Using KNN Neighbors\n",
    "from sklearn.neighbors import KNeighborsClassifier\n",
    "model2 = KNeighborsClassifier(n_neighbors=5)\n",
    "model2.fit(X_train,Y_train)\n",
    "y_pred2 = model2.predict(X_test)\n",
    "\n",
    "from sklearn.metrics import accuracy_score\n",
    "print(\"Accuracy Score:\",accuracy_score(Y_test,y_pred2))"
   ]
  },
  {
   "cell_type": "markdown",
   "id": "ca56fc17",
   "metadata": {},
   "source": [
    "Accuracy Score: 0.6604477611940298"
   ]
  },
  {
   "cell_type": "code",
   "execution_count": null,
   "id": "605a8283",
   "metadata": {},
   "outputs": [],
   "source": [
    "from sklearn.metrics import accuracy_score,confusion_matrix,classification_report\n",
    "confusion_mat = confusion_matrix(Y_test,y_pred2)\n",
    "print(confusion_mat)\n",
    "print(classification_report(Y_test,y_pred3))\n"
   ]
  },
  {
   "cell_type": "raw",
   "id": "d5833b8e",
   "metadata": {},
   "source": [
    "[[126  30]\n",
    " [ 61  51]]\n",
    "              precision    recall  f1-score   support\n",
    "\n",
    "           0       0.79      0.83      0.81       156\n",
    "           1       0.74      0.69      0.71       112\n",
    "\n",
    "    accuracy                           0.77       268\n",
    "   macro avg       0.76      0.76      0.76       268\n",
    "weighted avg       0.77      0.77      0.77       268\n"
   ]
  },
  {
   "cell_type": "code",
   "execution_count": null,
   "id": "6018d307",
   "metadata": {},
   "outputs": [],
   "source": [
    "#Using GaussianNB\n",
    "from sklearn.naive_bayes import GaussianNB\n",
    "model3 = GaussianNB()\n",
    "model3.fit(X_train,Y_train)\n",
    "y_pred3 = model3.predict(X_test)\n",
    "\n",
    "from sklearn.metrics import accuracy_score\n",
    "print(\"Accuracy Score:\",accuracy_score(Y_test,y_pred3))"
   ]
  },
  {
   "cell_type": "markdown",
   "id": "ba48db65",
   "metadata": {},
   "source": [
    "Accuracy Score: 0.7686567164179104"
   ]
  },
  {
   "cell_type": "code",
   "execution_count": null,
   "id": "e829858e",
   "metadata": {},
   "outputs": [],
   "source": [
    "from sklearn.metrics import accuracy_score,confusion_matrix,classification_report\n",
    "confusion_mat = confusion_matrix(Y_test,y_pred3)\n",
    "print(confusion_mat)\n",
    "print(classification_report(Y_test,y_pred3))"
   ]
  },
  {
   "cell_type": "code",
   "execution_count": null,
   "id": "568c2b62",
   "metadata": {},
   "outputs": [],
   "source": [
    "from sklearn.metrics import accuracy_score,confusion_matrix,classification_report\n",
    "confusion_mat = confusion_matrix(Y_test,y_pred3)\n",
    "print(confusion_mat)\n",
    "print(classification_report(Y_test,y_pred3))"
   ]
  },
  {
   "cell_type": "code",
   "execution_count": null,
   "id": "fa59be2c",
   "metadata": {},
   "outputs": [],
   "source": [
    "#Using Decision Tree\n",
    "from sklearn.tree import DecisionTreeClassifier\n",
    "model4 = DecisionTreeClassifier(criterion='entropy',random_state=7)\n",
    "model4.fit(X_train,Y_train)\n",
    "y_pred4 = model4.predict(X_test)\n",
    "\n",
    "from sklearn.metrics import accuracy_score\n",
    "print(\"Accuracy Score:\",accuracy_score(Y_test,y_pred4))"
   ]
  },
  {
   "cell_type": "markdown",
   "id": "f6212a0a",
   "metadata": {},
   "source": [
    "Accuracy Score: 0.7425373134328358"
   ]
  },
  {
   "cell_type": "code",
   "execution_count": null,
   "id": "dfa2ed15",
   "metadata": {},
   "outputs": [],
   "source": [
    "from sklearn.metrics import accuracy_score,confusion_matrix,classification_report\n",
    "confusion_mat = confusion_matrix(Y_test,y_pred4)\n",
    "print(confusion_mat)\n",
    "print(classification_report(Y_test,y_pred4))"
   ]
  },
  {
   "cell_type": "markdown",
   "id": "1e866154",
   "metadata": {},
   "source": [
    "[[132  24]\n",
    " [ 45  67]]\n",
    "              precision    recall  f1-score   support\n",
    "\n",
    "           0       0.75      0.85      0.79       156\n",
    "           1       0.74      0.60      0.66       112\n",
    "\n",
    "    accuracy                           0.74       268\n",
    "   macro avg       0.74      0.72      0.73       268\n",
    "weighted avg       0.74      0.74      0.74       268\n"
   ]
  },
  {
   "cell_type": "code",
   "execution_count": null,
   "id": "932dbd39",
   "metadata": {},
   "outputs": [],
   "source": [
    "results = pd.DataFrame({\n",
    "    'Model': ['Logistic Regression','Support Vector Machines', 'Naive Bayes','KNN' ,'Decision Tree'],\n",
    "    'Score': [0.75,0.66,0.76,0.66,0.74]})\n",
    "\n",
    "result_df = results.sort_values(by='Score', ascending=False)\n",
    "result_df = result_df.set_index('Score')\n",
    "result_df.head(9)"
   ]
  },
  {
   "cell_type": "markdown",
   "id": "b5bd3b89",
   "metadata": {},
   "source": [
    "Model\n",
    "Score\t\n",
    "0.76\tNaive Bayes\n",
    "0.75\tLogistic Regression\n",
    "0.74\tDecision Tree\n",
    "0.66\tSupport Vector Machines\n",
    "0.66\tKNN"
   ]
  }
 ],
 "metadata": {
  "kernelspec": {
   "display_name": "Python 3 (ipykernel)",
   "language": "python",
   "name": "python3"
  },
  "language_info": {
   "codemirror_mode": {
    "name": "ipython",
    "version": 3
   },
   "file_extension": ".py",
   "mimetype": "text/x-python",
   "name": "python",
   "nbconvert_exporter": "python",
   "pygments_lexer": "ipython3",
   "version": "3.9.12"
  }
 },
 "nbformat": 4,
 "nbformat_minor": 5
}
