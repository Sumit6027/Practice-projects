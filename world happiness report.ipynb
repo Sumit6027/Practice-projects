{
 "cells": [
  {
   "cell_type": "markdown",
   "id": "706260d2",
   "metadata": {},
   "source": [
    "# World-Happiness-Report"
   ]
  },
  {
   "cell_type": "markdown",
   "id": "f77a5ddf",
   "metadata": {},
   "source": [
    "# Introduction:"
   ]
  },
  {
   "cell_type": "code",
   "execution_count": null,
   "id": "9b411fe4",
   "metadata": {},
   "outputs": [],
   "source": [
    "The World Happiness Report is an annual publication of the United Nations Sustainable Development Solutions Network. It contains articles, and rankings of national happiness based on respondent ratings of their own lives,which the report also correlates with various life factors\n",
    "\n",
    "The rankings of national happiness are based on a Cantril ladder survey. Nationally representative samples of respondents are asked to think of a ladder, with the best possible life for them being a 10, and the worst possible life being a 0. They are then asked to rate their own current lives on that 0 to 10 scale. The report correlates the results with various life factors.\n",
    "\n",
    "In the reports, experts in fields including economics, psychology, survey analysis, and national statistics, describe how measurements of well-being can be used effectively to assess the progress of nations, and other topics. Each report is organized by chapters that delve deeper into issues relating to happiness, including mental illness, the objective benefits of happiness, the importance of ethics, policy implications, and links with the Organisation for Economic Co-operation and Development's (OECD) approach to measuring subjective well-being and other international and national efforts."
   ]
  },
  {
   "cell_type": "markdown",
   "id": "7983aa8f",
   "metadata": {},
   "source": [
    "# Analyzing Happiness around the Globe."
   ]
  },
  {
   "cell_type": "code",
   "execution_count": null,
   "id": "42257962",
   "metadata": {},
   "outputs": [],
   "source": [
    "!pip install bubbly"
   ]
  },
  {
   "cell_type": "markdown",
   "id": "a7a643ef",
   "metadata": {},
   "source": [
    "Collecting bubbly\n",
    "  Downloading https://files.pythonhosted.org/packages/d1/ba/78a1262f6e96c92ac5b290c5654bc4cf6b8016d0d97c604576899f571cf0/bubbly-1.0.2.tar.gz\n",
    "Requirement already satisfied: plotly in /opt/conda/lib/python3.6/site-packages (from bubbly) (3.10.0)\n",
    "Requirement already satisfied: pandas in /opt/conda/lib/python3.6/site-packages (from bubbly) (0.23.4)\n",
    "Requirement already satisfied: nbformat>=4.2 in /opt/conda/lib/python3.6/site-packages (from plotly->bubbly) (4.4.0)\n",
    "Requirement already satisfied: decorator>=4.0.6 in /opt/conda/lib/python3.6/site-packages (from plotly->bubbly) (4.4.0)\n",
    "Requirement already satisfied: retrying>=1.3.3 in /opt/conda/lib/python3.6/site-packages (from plotly->bubbly) (1.3.3)\n",
    "Requirement already satisfied: requests in /opt/conda/lib/python3.6/site-packages (from plotly->bubbly) (2.22.0)\n",
    "Requirement already satisfied: six in /opt/conda/lib/python3.6/site-packages (from plotly->bubbly) (1.12.0)\n",
    "Requirement already satisfied: pytz in /opt/conda/lib/python3.6/site-packages (from plotly->bubbly) (2019.1)\n",
    "Requirement already satisfied: numpy>=1.9.0 in /opt/conda/lib/python3.6/site-packages (from pandas->bubbly) (1.16.4)\n",
    "Requirement already satisfied: python-dateutil>=2.5.0 in /opt/conda/lib/python3.6/site-packages (from pandas->bubbly) (2.8.0)\n",
    "Requirement already satisfied: traitlets>=4.1 in /opt/conda/lib/python3.6/site-packages (from nbformat>=4.2->plotly->bubbly) (4.3.2)\n",
    "Requirement already satisfied: jsonschema!=2.5.0,>=2.4 in /opt/conda/lib/python3.6/site-packages (from nbformat>=4.2->plotly->bubbly) (3.0.1)\n",
    "Requirement already satisfied: jupyter-core in /opt/conda/lib/python3.6/site-packages (from nbformat>=4.2->plotly->bubbly) (4.4.0)\n",
    "Requirement already satisfied: ipython-genutils in /opt/conda/lib/python3.6/site-packages (from nbformat>=4.2->plotly->bubbly) (0.2.0)\n",
    "Requirement already satisfied: certifi>=2017.4.17 in /opt/conda/lib/python3.6/site-packages (from requests->plotly->bubbly) (2019.6.16)\n",
    "Requirement already satisfied: chardet<3.1.0,>=3.0.2 in /opt/conda/lib/python3.6/site-packages (from requests->plotly->bubbly) (3.0.4)\n",
    "Requirement already satisfied: urllib3!=1.25.0,!=1.25.1,<1.26,>=1.21.1 in /opt/conda/lib/python3.6/site-packages (from requests->plotly->bubbly) (1.24.2)\n",
    "Requirement already satisfied: idna<2.9,>=2.5 in /opt/conda/lib/python3.6/site-packages (from requests->plotly->bubbly) (2.8)\n",
    "Requirement already satisfied: attrs>=17.4.0 in /opt/conda/lib/python3.6/site-packages (from jsonschema!=2.5.0,>=2.4->nbformat>=4.2->plotly->bubbly) (19.1.0)\n",
    "Requirement already satisfied: pyrsistent>=0.14.0 in /opt/conda/lib/python3.6/site-packages (from jsonschema!=2.5.0,>=2.4->nbformat>=4.2->plotly->bubbly) (0.14.11)\n",
    "Requirement already satisfied: setuptools in /opt/conda/lib/python3.6/site-packages (from jsonschema!=2.5.0,>=2.4->nbformat>=4.2->plotly->bubbly) (41.0.1)\n",
    "Building wheels for collected packages: bubbly\n",
    "  Building wheel for bubbly (setup.py) ... - \\ done\n",
    "  Stored in directory: /tmp/.cache/pip/wheels/cf/3c/75/8c09dbf7cd6b320b69a6bc679fd111abd1139866c722b1476b\n",
    "Successfully built bubbly\n",
    "Installing collected packages: bubbly\n",
    "Successfully installed bubbly-1.0.2"
   ]
  },
  {
   "cell_type": "code",
   "execution_count": null,
   "id": "870b6c7d",
   "metadata": {},
   "outputs": [],
   "source": [
    "# for some basic operations\n",
    "import numpy as np \n",
    "import pandas as pd\n",
    "\n",
    "# for visualizations\n",
    "import matplotlib.pyplot as plt\n",
    "import seaborn as sns\n",
    "plt.style.use('fivethirtyeight')\n",
    "\n",
    "# for interactive visualizations\n",
    "import plotly.offline as py\n",
    "from plotly.offline import init_notebook_mode, iplot\n",
    "import plotly.graph_objs as go\n",
    "init_notebook_mode(connected = True)\n",
    "from bubbly.bubbly import bubbleplot\n",
    "\n",
    "# for providing the path\n",
    "import os\n",
    "print(os.listdir(\"../input\"))"
   ]
  },
  {
   "cell_type": "markdown",
   "id": "5a39dfce",
   "metadata": {},
   "source": [
    "['2015.csv', '2016.csv', '2017.csv']"
   ]
  },
  {
   "cell_type": "code",
   "execution_count": null,
   "id": "537bf158",
   "metadata": {},
   "outputs": [],
   "source": [
    "data_2015 = pd.read_csv('../input/2015.csv')\n",
    "data_2016 = pd.read_csv('../input/2016.csv')\n",
    "data_2017 = pd.read_csv('../input/2017.csv')\n",
    "\n",
    "data_2016.head()"
   ]
  },
  {
   "cell_type": "markdown",
   "id": "1d860c5b",
   "metadata": {},
   "source": [
    "Country\tRegion\tHappiness Rank\tHappiness Score\tLower Confidence Interval\tUpper Confidence Interval\tEconomy (GDP per Capita)\tFamily\tHealth (Life Expectancy)\tFreedom\tTrust (Government Corruption)\tGenerosity\tDystopia Residual\n",
    "0\tDenmark\tWestern Europe\t1\t7.526\t7.460\t7.592\t1.44178\t1.16374\t0.79504\t0.57941\t0.44453\t0.36171\t2.73939\n",
    "1\tSwitzerland\tWestern Europe\t2\t7.509\t7.428\t7.590\t1.52733\t1.14524\t0.86303\t0.58557\t0.41203\t0.28083\t2.69463\n",
    "2\tIceland\tWestern Europe\t3\t7.501\t7.333\t7.669\t1.42666\t1.18326\t0.86733\t0.56624\t0.14975\t0.47678\t2.83137\n",
    "3\tNorway\tWestern Europe\t4\t7.498\t7.421\t7.575\t1.57744\t1.12690\t0.79579\t0.59609\t0.35776\t0.37895\t2.66465\n",
    "4\tFinland\tWestern Europe\t5\t7.413\t7.351\t7.475\t1.40598\t1.13464\t0.81091\t0.57104\t0.41004\t0.25492\t2.82596"
   ]
  },
  {
   "cell_type": "markdown",
   "id": "834b03d8",
   "metadata": {},
   "source": [
    "# Correlations Between the Data"
   ]
  },
  {
   "cell_type": "code",
   "execution_count": null,
   "id": "07e1ab73",
   "metadata": {},
   "outputs": [],
   "source": [
    "plt.rcParams['figure.figsize'] = (20, 15)\n",
    "sns.heatmap(data_2017.corr(), cmap = 'copper', annot = True)\n",
    "\n",
    "plt.show()"
   ]
  },
  {
   "cell_type": "markdown",
   "id": "f26fa92e",
   "metadata": {},
   "source": [
    "In the above Heat Map we can see that Happiness Score is very highly correlated with Economy, Health, and Family Satisfaction and somewhat related with Freedom also but has very low relation with Trust in Government in average case."
   ]
  },
  {
   "cell_type": "markdown",
   "id": "aebb480d",
   "metadata": {},
   "source": [
    "# Correlations for Western Europe"
   ]
  },
  {
   "cell_type": "code",
   "execution_count": null,
   "id": "6731bdbd",
   "metadata": {},
   "outputs": [],
   "source": [
    "plt.rcParams['figure.figsize'] = (20, 15)\n",
    "d = data_2016.loc[lambda data_2016: data_2016['Region'] == 'Western Europe']\n",
    "sns.heatmap(d.corr(), cmap = 'Wistia', annot = True)\n",
    "\n",
    "plt.show()"
   ]
  },
  {
   "cell_type": "markdown",
   "id": "dbec28fe",
   "metadata": {},
   "source": [
    "The Heat Map particularly for Europe has one more thing to add apart from Family Satisfaction, Freedom, Economy, Generosity, It is also highly correlated with Trust in Government.\n",
    "\n",
    "The European Region is the Happiest Region so far."
   ]
  },
  {
   "cell_type": "markdown",
   "id": "8d343fb3",
   "metadata": {},
   "source": [
    "# Correlations for Eastern Asia"
   ]
  },
  {
   "cell_type": "code",
   "execution_count": null,
   "id": "deb7bf17",
   "metadata": {},
   "outputs": [],
   "source": [
    "plt.rcParams['figure.figsize'] = (20, 15)\n",
    "d = data_2016.loc[lambda data_2016: data_2016['Region'] == 'Eastern Asia']\n",
    "sns.heatmap(d.corr(), cmap = 'Greys', annot = True)\n",
    "\n",
    "plt.show()"
   ]
  },
  {
   "cell_type": "markdown",
   "id": "0baef083",
   "metadata": {},
   "source": [
    "Here, The situation gets worsened as the Correlation is negative for many important factors such as Economy, Health, Trust in Government which makes the situation very critical. It has Positive correlations only with Freedom, Generosity and Famlily Satisfaction."
   ]
  },
  {
   "cell_type": "markdown",
   "id": "fd9b5983",
   "metadata": {},
   "source": [
    "# North America"
   ]
  },
  {
   "cell_type": "code",
   "execution_count": null,
   "id": "fb75f8a0",
   "metadata": {},
   "outputs": [],
   "source": [
    "plt.rcParams['figure.figsize'] = (20, 15)\n",
    "d = data_2016.loc[lambda data_2016: data_2016['Region'] == 'North America']\n",
    "sns.heatmap(d.corr(), cmap = 'pink', annot = True)\n",
    "\n",
    "plt.show()"
   ]
  },
  {
   "cell_type": "markdown",
   "id": "1905254d",
   "metadata": {},
   "source": [
    "Everything is highly correlated to the Happiness in America. Amongst so many countries of the world. Being a very large country also America is still able to keep their people happy. America stands at position number 10 amongst the Happiness Rankings for the World."
   ]
  },
  {
   "cell_type": "markdown",
   "id": "560f9bf2",
   "metadata": {},
   "source": [
    "# Middle East and Northern Africa"
   ]
  },
  {
   "cell_type": "code",
   "execution_count": null,
   "id": "24d514e1",
   "metadata": {},
   "outputs": [],
   "source": [
    "plt.rcParams['figure.figsize'] = (20, 15)\n",
    "d = data_2016.loc[lambda data_2016: data_2016['Region'] == 'Middle East and Northern Africa']\n",
    "\n",
    "sns.heatmap(d.corr(), cmap = 'rainbow', annot = True)\n",
    "\n",
    "plt.show()"
   ]
  },
  {
   "cell_type": "markdown",
   "id": "416b7ded",
   "metadata": {},
   "source": [
    "The correlations are quite goood with almost all the important factors being highly correlated with Happiness. Family Satisfaction is the most important factor as it is the most important factor for happiness n this region."
   ]
  },
  {
   "cell_type": "markdown",
   "id": "d4f57aac",
   "metadata": {},
   "source": [
    "# Sub-Saharan Africa"
   ]
  },
  {
   "cell_type": "code",
   "execution_count": null,
   "id": "9fba635c",
   "metadata": {},
   "outputs": [],
   "source": [
    "plt.rcParams['figure.figsize'] = (20, 15)\n",
    "d = data_2016.loc[lambda data_2016: data_2016['Region'] == 'Sub-Saharan Africa']\n",
    "sns.heatmap(d.corr(), cmap = 'Blues', annot = True)\n",
    "\n",
    "plt.show()"
   ]
  },
  {
   "cell_type": "code",
   "execution_count": null,
   "id": "78796c58",
   "metadata": {},
   "outputs": [],
   "source": [
    "The Situations are very bad for Sub-Saharan Region as it is the unhappiest region in the world. The correlations with Happiness Score are very low for features such as Generosity, Family Satisfaction, Freedom etc. Almost all of the features are having less than 0.5 correlation which is very bad."
   ]
  },
  {
   "cell_type": "markdown",
   "id": "d49d4104",
   "metadata": {},
   "source": [
    "# Bubble Charts"
   ]
  },
  {
   "cell_type": "code",
   "execution_count": null,
   "id": "6d197510",
   "metadata": {},
   "outputs": [],
   "source": [
    "import warnings\n",
    "warnings.filterwarnings('ignore')\n",
    "\n",
    "figure = bubbleplot(dataset = data_2015, x_column = 'Happiness Score', y_column = 'Generosity', \n",
    "    bubble_column = 'Country', size_column = 'Economy (GDP per Capita)', color_column = 'Region', \n",
    "    x_title = \"Happiness Score\", y_title = \"Generosity\", title = 'Happiness vs Generosity vs Economy',\n",
    "    x_logscale = False, scale_bubble = 1, height = 650)\n",
    "\n",
    "py.iplot(figure, config={'scrollzoom': True})"
   ]
  },
  {
   "cell_type": "code",
   "execution_count": null,
   "id": "40196458",
   "metadata": {},
   "outputs": [],
   "source": [
    "import warnings\n",
    "warnings.filterwarnings('ignore')\n",
    "\n",
    "figure = bubbleplot(dataset = data_2015, x_column = 'Happiness Score', y_column = 'Trust (Government Corruption)', \n",
    "    bubble_column = 'Country', size_column = 'Economy (GDP per Capita)', color_column = 'Region', \n",
    "    x_title = \"Happiness Score\", y_title = \"Trust\", title = 'Happiness vs Trust vs Economy',\n",
    "    x_logscale = False, scale_bubble = 1, height = 650)\n",
    "\n",
    "py.iplot(figure, config={'scrollzoom': True})"
   ]
  },
  {
   "cell_type": "code",
   "execution_count": null,
   "id": "11673f4e",
   "metadata": {},
   "outputs": [],
   "source": [
    "import warnings\n",
    "warnings.filterwarnings('ignore')\n",
    "\n",
    "figure = bubbleplot(dataset = data_2016, x_column = 'Happiness Score', y_column = 'Health (Life Expectancy)', \n",
    "    bubble_column = 'Country', size_column = 'Economy (GDP per Capita)', color_column = 'Region', \n",
    "    x_title = \"Happiness Score\", y_title = \"Health\", title = 'Happiness vs Health vs Economy',\n",
    "    x_logscale = False, scale_bubble = 1, height = 650)\n",
    "\n",
    "py.iplot(figure, config={'scrollzoom': True})"
   ]
  },
  {
   "cell_type": "code",
   "execution_count": null,
   "id": "2ec10ffb",
   "metadata": {},
   "outputs": [],
   "source": [
    "import warnings\n",
    "warnings.filterwarnings('ignore')\n",
    "\n",
    "figure = bubbleplot(dataset = data_2015, x_column = 'Happiness Score', y_column = 'Family', \n",
    "    bubble_column = 'Country', size_column = 'Economy (GDP per Capita)', color_column = 'Region', \n",
    "    x_title = \"Happiness Score\", y_title = \"Family\", title = 'Happiness vs Family vs Economy',\n",
    "    x_logscale = False, scale_bubble = 1, height = 650)\n",
    "\n",
    "py.iplot(figure, config={'scrollzoom': True})"
   ]
  },
  {
   "cell_type": "markdown",
   "id": "5f7e99c6",
   "metadata": {},
   "source": [
    "Bubble plot to depict the relation between the Happiness Scores vs Family Satisfaction where size of the bubbles is represented by the Economy and the color of the bubbles is represented by the Different Regions of the World.\n",
    "\n",
    "It is Quite Visible that as the Family Satisfaction ratings increases the Happiness Score increases. So, We can say that they have a direct relationship between them.\n",
    "\n",
    "Also, European Countries and Austrelia are the Happiest Regions. After America.\n",
    "\n",
    "There is not even a single country in American Region with low Happiness Index.\n",
    "\n",
    "Asian and African countries suffer with some serious issues, that is why none of the Asian orr African Country stands at a good position in terms of Happiness Index.\n",
    "\n",
    "Some Countries in Middle East are Happy while some are Unhappy."
   ]
  },
  {
   "cell_type": "code",
   "execution_count": null,
   "id": "5d2ea5a4",
   "metadata": {},
   "outputs": [],
   "source": [
    "import plotly.figure_factory as ff\n",
    "\n",
    "data = (\n",
    "  {\"label\": \"Happiness\", \"sublabel\":\"score\",\n",
    "   \"range\": [5, 6, 8], \"performance\": [5.5, 6.5], \"point\": [7]},\n",
    "  {\"label\": \"Economy\", \"sublabel\": \"score\", \"range\": [0, 1, 2],\n",
    "   \"performance\": [1, 1.5], \"sublabel\":\"score\",\"point\": [1.5]},\n",
    "  {\"label\": \"Family\",\"sublabel\":\"score\", \"range\": [0, 1, 2],\n",
    "   \"performance\": [1, 1.5],\"sublabel\":\"score\", \"point\": [1.3]},\n",
    "  {\"label\": \"Freedom\",\"sublabel\":\"score\", \"range\": [0, 0.3, 0.6],\n",
    "   \"performance\": [0.3, 0.4],\"sublabel\":\"score\", \"point\": [0.5]},\n",
    "  {\"label\": \"Trust\", \"sublabel\":\"score\",\"range\": [0, 0.2, 0.5],\n",
    "   \"performance\": [0.3, 0.4], \"point\": [0.4]}\n",
    ")\n",
    "\n",
    "fig = ff.create_bullet(\n",
    "    data, titles='label', subtitles='sublabel', markers='point',\n",
    "    measures='performance', ranges='range', orientation='v',\n",
    ")\n",
    "py.iplot(fig, filename='bullet chart from dict')"
   ]
  },
  {
   "cell_type": "markdown",
   "id": "c0c96faa",
   "metadata": {},
   "source": [
    "Bullet Chart to Represent the Range for some of the most Important Attributes given in the data. We have taken Happiness, Economy, Freedom, and Family. for analysis of their range.\n",
    "\n",
    "If the values for the given attributes lie in the Dark Blue Region then it is in the critical region.\n",
    "\n",
    "If the values for the given attributes lie in the light blue region then is is in good condition.\n",
    "\n",
    "If the values for the given attributes lie above or near the diamond then is in the best state or condition.\n",
    "\n",
    "White Regions are depicting the Maxima that could be achieved."
   ]
  },
  {
   "cell_type": "code",
   "execution_count": null,
   "id": "a768d754",
   "metadata": {},
   "outputs": [],
   "source": [
    "d2015 = data_2015['Region'].value_counts()\n",
    "\n",
    "label_d2015 = d2015.index\n",
    "size_d2015 = d2015.values\n",
    "\n",
    "\n",
    "colors = ['aqua', 'gold', 'yellow', 'crimson', 'magenta']\n",
    "\n",
    "trace = go.Pie(\n",
    "         labels = label_d2015, values = size_d2015, marker = dict(colors = colors), name = '2015', hole = 0.3)\n",
    "\n",
    "data = [trace]\n",
    "\n",
    "layout1 = go.Layout(\n",
    "           title = 'Regions')\n",
    "\n",
    "fig = go.Figure(data = data, layout = layout1)\n",
    "py.iplot(fig)"
   ]
  },
  {
   "cell_type": "markdown",
   "id": "ce9911ba",
   "metadata": {},
   "source": [
    "The Above pie chart depicts the Number of Countries from each Region,\n",
    "\n",
    "There are only two countries from North America(USA and Canada), and Austrelia(Austrelia, and New Zealand) Regions.\n",
    "\n",
    "The highest number of countries are from Sub-Saharan and Central and Eastern Europe Regions with 40 and 29 countries respectively."
   ]
  },
  {
   "cell_type": "code",
   "execution_count": null,
   "id": "4a562a10",
   "metadata": {},
   "outputs": [],
   "source": [
    "trace1 = [go.Choropleth(\n",
    "               colorscale = 'Earth',\n",
    "               locationmode = 'country names',\n",
    "               locations = data_2017['Country'],\n",
    "               text = data_2017['Country'], \n",
    "               z = data_2017['Generosity'],\n",
    "               )]\n",
    "\n",
    "layout = dict(title = 'Generosity',\n",
    "                  geo = dict(\n",
    "                      showframe = True,\n",
    "                      showocean = True,\n",
    "                      showlakes = True,\n",
    "                      showcoastlines = True,\n",
    "                      projection = dict(\n",
    "                          type = 'hammer'\n",
    "        )))\n",
    "\n",
    "\n",
    "projections = [ \"equirectangular\", \"mercator\", \"orthographic\", \"natural earth\",\"kavrayskiy7\", \n",
    "               \"miller\", \"robinson\", \"eckert4\", \"azimuthal equal area\",\"azimuthal equidistant\", \n",
    "               \"conic equal area\", \"conic conformal\", \"conic equidistant\", \"gnomonic\", \"stereographic\", \n",
    "               \"mollweide\", \"hammer\", \"transverse mercator\", \"albers usa\", \"winkel tripel\" ]\n",
    "\n",
    "buttons = [dict(args = ['geo.projection.type', y],\n",
    "           label = y, method = 'relayout') for y in projections]\n",
    "annot = list([ dict( x=0.1, y=0.8, text='Projection', yanchor='bottom', \n",
    "                    xref='paper', xanchor='right', showarrow=False )])\n",
    "\n",
    "\n",
    "# Update Layout Object\n",
    "\n",
    "layout[ 'updatemenus' ] = list([ dict( x=0.1, y=0.8, buttons=buttons, yanchor='top' )])\n",
    "layout[ 'annotations' ] = annot\n",
    "\n",
    "\n",
    "fig = go.Figure(data = trace1, layout = layout)\n",
    "py.iplot(fig)\n"
   ]
  },
  {
   "cell_type": "markdown",
   "id": "fb1040a7",
   "metadata": {},
   "source": [
    "Generosity is really low in Big Countries like Russia, China, and India but USA, Austrelia, and Canada has high ratings for generosity.\n",
    "\n",
    "Africa and South America have very low Generosity Scores in general."
   ]
  },
  {
   "cell_type": "markdown",
   "id": "c77d08a4",
   "metadata": {},
   "source": [
    "# Top 10 Most Generous Countries"
   ]
  },
  {
   "cell_type": "code",
   "execution_count": null,
   "id": "573d8546",
   "metadata": {},
   "outputs": [],
   "source": [
    "data_2017[['Country', 'Generosity']].sort_values(by = 'Generosity',\n",
    "                                                ascending = False).head(10)"
   ]
  },
  {
   "cell_type": "markdown",
   "id": "14d5abda",
   "metadata": {},
   "source": [
    "\n",
    "Country\tGenerosity\n",
    "113\tMyanmar\t0.838075\n",
    "80\tIndonesia\t0.611705\n",
    "26\tMalta\t0.574731\n",
    "31\tThailand\t0.572123\n",
    "7\tNew Zealand\t0.500005\n",
    "151\tSyria\t0.493664\n",
    "18\tUnited Kingdom\t0.492774\n",
    "119\tSri Lanka\t0.490864\n",
    "144\tHaiti\t0.489204\n",
    "9\tAustralia\t0.477699"
   ]
  },
  {
   "cell_type": "code",
   "execution_count": null,
   "id": "a81e8af9",
   "metadata": {},
   "outputs": [],
   "source": [
    "trace1 = [go.Choropleth(\n",
    "               colorscale = 'Cividis',\n",
    "               locationmode = 'country names',\n",
    "               locations = data_2017['Country'],\n",
    "               text = data_2017['Country'], \n",
    "               z = data_2017['Trust..Government.Corruption.'],\n",
    "               )]\n",
    "\n",
    "layout = dict(title = 'Trust in Governance',\n",
    "                  geo = dict(\n",
    "                      showframe = True,\n",
    "                      showocean = True,\n",
    "                      showlakes = True,\n",
    "                      showcoastlines = True,\n",
    "                      projection = dict(\n",
    "                          type = 'hammer'\n",
    "        )))\n",
    "\n",
    "\n",
    "projections = [ \"equirectangular\", \"mercator\", \"orthographic\", \"natural earth\",\"kavrayskiy7\", \n",
    "               \"miller\", \"robinson\", \"eckert4\", \"azimuthal equal area\",\"azimuthal equidistant\", \n",
    "               \"conic equal area\", \"conic conformal\", \"conic equidistant\", \"gnomonic\", \"stereographic\", \n",
    "               \"mollweide\", \"hammer\", \"transverse mercator\", \"albers usa\", \"winkel tripel\" ]\n",
    "\n",
    "buttons = [dict(args = ['geo.projection.type', y],\n",
    "           label = y, method = 'relayout') for y in projections]\n",
    "annot = list([ dict( x=0.1, y=0.8, text='Projection', yanchor='bottom', \n",
    "                    xref='paper', xanchor='right', showarrow=False )])\n",
    "\n",
    "\n",
    "# Update Layout Object\n",
    "\n",
    "layout[ 'updatemenus' ] = list([ dict( x=0.1, y=0.8, buttons=buttons, yanchor='top' )])\n",
    "layout[ 'annotations' ] = annot\n",
    "\n",
    "\n",
    "fig = go.Figure(data = trace1, layout = layout)\n",
    "py.iplot(fig)\n"
   ]
  },
  {
   "cell_type": "markdown",
   "id": "6f21d8a7",
   "metadata": {},
   "source": [
    "Looks like there is no trust in government all round the world, except Norway, sweden, and Finland.\n",
    "\n",
    "Canada Saudi Arabia, Germany, United Kingdom, Somalia, Ireland, and Austrlia are also having good trust in the Governance of their Countries."
   ]
  },
  {
   "cell_type": "markdown",
   "id": "c38c1661",
   "metadata": {},
   "source": [
    "# Top 10 Countries with Trust in Government"
   ]
  },
  {
   "cell_type": "code",
   "execution_count": null,
   "id": "ccae2d8d",
   "metadata": {},
   "outputs": [],
   "source": [
    "data_2017[['Country', 'Trust..Government.Corruption.']].sort_values(by = 'Trust..Government.Corruption.',\n",
    "                                                                     ascending = False).head(10)"
   ]
  },
  {
   "cell_type": "markdown",
   "id": "3580610e",
   "metadata": {},
   "source": [
    "Country\tTrust..Government.Corruption.\n",
    "25\tSingapore\t0.464308\n",
    "150\tRwanda\t0.455220\n",
    "34\tQatar\t0.439299\n",
    "1\tDenmark\t0.400770\n",
    "8\tSweden\t0.384399\n",
    "7\tNew Zealand\t0.382817\n",
    "4\tFinland\t0.382612\n",
    "3\tSwitzerland\t0.367007\n",
    "20\tUnited Arab Emirates\t0.324490\n",
    "17\tLuxembourg\t0.318834"
   ]
  },
  {
   "cell_type": "code",
   "execution_count": null,
   "id": "d5e0731c",
   "metadata": {},
   "outputs": [],
   "source": [
    "trace1 = [go.Choropleth(\n",
    "               colorscale = 'Portland',\n",
    "               locationmode = 'country names',\n",
    "               locations = data_2017['Country'],\n",
    "               text = data_2017['Country'], \n",
    "               z = data_2017['Family'],\n",
    "               )]\n",
    "\n",
    "layout = dict(title = 'Family Satisfaction Index',\n",
    "                  geo = dict(\n",
    "                      showframe = True,\n",
    "                      showocean = True,\n",
    "                      showlakes = True,\n",
    "                      showcoastlines = True,\n",
    "                      projection = dict(\n",
    "                          type = 'hammer'\n",
    "        )))\n",
    "\n",
    "\n",
    "projections = [ \"equirectangular\", \"mercator\", \"orthographic\", \"natural earth\",\"kavrayskiy7\", \n",
    "               \"miller\", \"robinson\", \"eckert4\", \"azimuthal equal area\",\"azimuthal equidistant\", \n",
    "               \"conic equal area\", \"conic conformal\", \"conic equidistant\", \"gnomonic\", \"stereographic\", \n",
    "               \"mollweide\", \"hammer\", \"transverse mercator\", \"albers usa\", \"winkel tripel\" ]\n",
    "\n",
    "buttons = [dict(args = ['geo.projection.type', y],\n",
    "           label = y, method = 'relayout') for y in projections]\n",
    "annot = list([ dict( x=0.1, y=0.8, text='Projection', yanchor='bottom', \n",
    "                    xref='paper', xanchor='right', showarrow=False )])\n",
    "\n",
    "\n",
    "# Update Layout Object\n",
    "\n",
    "layout[ 'updatemenus' ] = list([ dict( x=0.1, y=0.8, buttons=buttons, yanchor='top' )])\n",
    "layout[ 'annotations' ] = annot\n",
    "\n",
    "\n",
    "fig = go.Figure(data = trace1, layout = layout)\n",
    "py.iplot(fig)"
   ]
  },
  {
   "cell_type": "code",
   "execution_count": null,
   "id": "d1d909cb",
   "metadata": {},
   "outputs": [],
   "source": [
    "India and China have very low Family Satisfaction comparatively.\n",
    "\n",
    "All over the world Family Satisfaction rate is really good.\n",
    "\n",
    "Central African Republic has the lowest Family Satisfaction score in the world."
   ]
  },
  {
   "cell_type": "markdown",
   "id": "b70de1ec",
   "metadata": {},
   "source": [
    "# Top 10 Countries in Family Satisfaction"
   ]
  },
  {
   "cell_type": "code",
   "execution_count": null,
   "id": "4c966fd3",
   "metadata": {},
   "outputs": [],
   "source": [
    "data_2017[['Country', 'Family']].sort_values(by = 'Family', ascending = False).head(10)"
   ]
  },
  {
   "cell_type": "markdown",
   "id": "56d5398c",
   "metadata": {},
   "source": [
    "Country\tFamily\n",
    "2\tIceland\t1.610574\n",
    "14\tIreland\t1.558231\n",
    "1\tDenmark\t1.551122\n",
    "46\tUzbekistan\t1.548969\n",
    "7\tNew Zealand\t1.548195\n",
    "4\tFinland\t1.540247\n",
    "0\tNorway\t1.533524\n",
    "33\tSpain\t1.532091\n",
    "3\tSwitzerland\t1.516912\n",
    "9\tAustralia\t1.510042"
   ]
  },
  {
   "cell_type": "code",
   "execution_count": null,
   "id": "7c0204db",
   "metadata": {},
   "outputs": [],
   "source": [
    "trace1 = [go.Choropleth(\n",
    "               colorscale = 'Viridis',\n",
    "               locationmode = 'country names',\n",
    "               locations = data_2017['Country'],\n",
    "               text = data_2017['Country'], \n",
    "               z = data_2017['Economy..GDP.per.Capita.'],\n",
    "               )]\n",
    "\n",
    "layout = dict(title = 'GDP in 2017',\n",
    "                  geo = dict(\n",
    "                      showframe = True,\n",
    "                      showocean = True,\n",
    "                      showlakes = True,\n",
    "                      showcoastlines = True,\n",
    "                      projection = dict(\n",
    "                          type = 'hammer'\n",
    "        )))\n",
    "\n",
    "\n",
    "projections = [ \"equirectangular\", \"mercator\", \"orthographic\", \"natural earth\",\"kavrayskiy7\", \n",
    "               \"miller\", \"robinson\", \"eckert4\", \"azimuthal equal area\",\"azimuthal equidistant\", \n",
    "               \"conic equal area\", \"conic conformal\", \"conic equidistant\", \"gnomonic\", \"stereographic\", \n",
    "               \"mollweide\", \"hammer\", \"transverse mercator\", \"albers usa\", \"winkel tripel\" ]\n",
    "\n",
    "buttons = [dict(args = ['geo.projection.type', y],\n",
    "           label = y, method = 'relayout') for y in projections]\n",
    "annot = list([ dict( x=0.1, y=0.8, text='Projection', yanchor='bottom', \n",
    "                    xref='paper', xanchor='right', showarrow=False )])\n",
    "\n",
    "\n",
    "# Update Layout Object\n",
    "\n",
    "layout[ 'updatemenus' ] = list([ dict( x=0.1, y=0.8, buttons=buttons, yanchor='top' )])\n",
    "layout[ 'annotations' ] = annot\n",
    "\n",
    "\n",
    "fig = go.Figure(data = trace1, layout = layout)\n",
    "py.iplot(fig)"
   ]
  },
  {
   "cell_type": "markdown",
   "id": "ff49c856",
   "metadata": {},
   "source": [
    "America, Canada, Austrelia, Saudi Arabia, European Countries are the Leaders in the Economy and GDP.\n",
    "\n",
    "Smaller Countries like Norway, Qatar, Luxembourg are having the best GDP rate in the world.\n",
    "\n",
    "Most of the African Countries are having very low GDP rate.\n",
    "\n",
    "India, Pakistan, Myanmar are having very low GDP in the Asian Regions."
   ]
  },
  {
   "cell_type": "markdown",
   "id": "f948b439",
   "metadata": {},
   "source": [
    "# Top 10 Countries with Best Economy"
   ]
  },
  {
   "cell_type": "code",
   "execution_count": null,
   "id": "6c590834",
   "metadata": {},
   "outputs": [],
   "source": [
    "data_2017[['Country', 'Economy..GDP.per.Capita.']].sort_values(by = 'Economy..GDP.per.Capita.',\n",
    "            ascending = False).head(10)"
   ]
  },
  {
   "cell_type": "markdown",
   "id": "dbc2afed",
   "metadata": {},
   "source": [
    "Country\tEconomy..GDP.per.Capita.\n",
    "34\tQatar\t1.870766\n",
    "17\tLuxembourg\t1.741944\n",
    "25\tSingapore\t1.692278\n",
    "38\tKuwait\t1.632952\n",
    "20\tUnited Arab Emirates\t1.626343\n",
    "0\tNorway\t1.616463\n",
    "3\tSwitzerland\t1.564980\n",
    "70\tHong Kong S.A.R., China\t1.551675\n",
    "13\tUnited States\t1.546259\n",
    "14\tIreland\t1.535707"
   ]
  },
  {
   "cell_type": "code",
   "execution_count": null,
   "id": "fd5643b4",
   "metadata": {},
   "outputs": [],
   "source": [
    "trace1 = [go.Choropleth(\n",
    "               colorscale = 'Picnic',\n",
    "               locationmode = 'country names',\n",
    "               locations = data_2017['Country'],\n",
    "               text = data_2017['Country'], \n",
    "               z = data_2017['Freedom'],\n",
    "               )]\n",
    "\n",
    "layout = dict(title = 'Freedom Index',\n",
    "                  geo = dict(\n",
    "                      showframe = True,\n",
    "                      showocean = True,\n",
    "                      showlakes = True,\n",
    "                      showcoastlines = True,\n",
    "                      projection = dict(\n",
    "                          type = 'hammer'\n",
    "        )))\n",
    "\n",
    "\n",
    "projections = [ \"equirectangular\", \"mercator\", \"orthographic\", \"natural earth\",\"kavrayskiy7\", \n",
    "               \"miller\", \"robinson\", \"eckert4\", \"azimuthal equal area\",\"azimuthal equidistant\", \n",
    "               \"conic equal area\", \"conic conformal\", \"conic equidistant\", \"gnomonic\", \"stereographic\", \n",
    "               \"mollweide\", \"hammer\", \"transverse mercator\", \"albers usa\", \"winkel tripel\" ]\n",
    "\n",
    "buttons = [dict(args = ['geo.projection.type', y],\n",
    "           label = y, method = 'relayout') for y in projections]\n",
    "annot = list([ dict( x=0.1, y=0.8, text='Projection', yanchor='bottom', \n",
    "                    xref='paper', xanchor='right', showarrow=False )])\n",
    "\n",
    "\n",
    "# Update Layout Object\n",
    "\n",
    "layout[ 'updatemenus' ] = list([ dict( x=0.1, y=0.8, buttons=buttons, yanchor='top' )])\n",
    "layout[ 'annotations' ] = annot\n",
    "\n",
    "\n",
    "fig = go.Figure(data = trace1, layout = layout)\n",
    "py.iplot(fig)\n"
   ]
  },
  {
   "cell_type": "code",
   "execution_count": null,
   "id": "68bd82e4",
   "metadata": {},
   "outputs": [],
   "source": [
    "Looks like Canada, Austrelia and Europe are the best places on Earth to live. They have high scores throughout. In this case also They are the Winners.\n",
    "\n",
    "Europe on Whole has a very high Freedom Index in comparison to other Coutries of the World.\n",
    "\n",
    "African Countries such as Sudan and Angola are having the lowsest Freedom Index in the World."
   ]
  },
  {
   "cell_type": "markdown",
   "id": "de77d37c",
   "metadata": {},
   "source": [
    "# Top 10 Most Freedom Oriented Countries"
   ]
  },
  {
   "cell_type": "code",
   "execution_count": null,
   "id": "0000135b",
   "metadata": {},
   "outputs": [],
   "source": [
    "data_2017[['Country', 'Freedom']].sort_values(by = 'Freedom', ascending = False).head(10)"
   ]
  },
  {
   "cell_type": "code",
   "execution_count": null,
   "id": "eb93901d",
   "metadata": {},
   "outputs": [],
   "source": [
    "Country\tFreedom\n",
    "46\tUzbekistan\t0.658249\n",
    "0\tNorway\t0.635423\n",
    "128\tCambodia\t0.633376\n",
    "2\tIceland\t0.627163\n",
    "1\tDenmark\t0.626007\n",
    "3\tSwitzerland\t0.620071\n",
    "4\tFinland\t0.617951\n",
    "7\tNew Zealand\t0.614062\n",
    "8\tSweden\t0.612924\n",
    "6\tCanada\t0.611101"
   ]
  },
  {
   "cell_type": "code",
   "execution_count": null,
   "id": "c89e5393",
   "metadata": {},
   "outputs": [],
   "source": [
    "trace1 = [go.Choropleth(\n",
    "               colorscale = 'Electric',\n",
    "               locationmode = 'country names',\n",
    "               locations = data_2015['Country'],\n",
    "               text = data_2015['Country'], \n",
    "               z = data_2015['Happiness Rank'],\n",
    "               )]\n",
    "\n",
    "layout = dict(title = 'Happiness Rank',\n",
    "                  geo = dict(\n",
    "                      showframe = True,\n",
    "                      showocean = True,\n",
    "                      showlakes = True,\n",
    "                      showcoastlines = True,\n",
    "                      projection = dict(\n",
    "                          type = 'hammer'\n",
    "        )))\n",
    "\n",
    "\n",
    "projections = [ \"equirectangular\", \"mercator\", \"orthographic\", \"natural earth\",\"kavrayskiy7\", \n",
    "               \"miller\", \"robinson\", \"eckert4\", \"azimuthal equal area\",\"azimuthal equidistant\", \n",
    "               \"conic equal area\", \"conic conformal\", \"conic equidistant\", \"gnomonic\", \"stereographic\", \n",
    "               \"mollweide\", \"hammer\", \"transverse mercator\", \"albers usa\", \"winkel tripel\" ]\n",
    "\n",
    "buttons = [dict(args = ['geo.projection.type', y],\n",
    "           label = y, method = 'relayout') for y in projections]\n",
    "annot = list([ dict( x=0.1, y=0.8, text='Projection', yanchor='bottom', \n",
    "                    xref='paper', xanchor='right', showarrow=False )])\n",
    "\n",
    "\n",
    "# Update Layout Object\n",
    "\n",
    "layout[ 'updatemenus' ] = list([ dict( x=0.1, y=0.8, buttons=buttons, yanchor='top' )])\n",
    "layout[ 'annotations' ] = annot\n",
    "\n",
    "fig = go.Figure(data = trace1, layout = layout)\n",
    "py.iplot(fig)"
   ]
  },
  {
   "cell_type": "markdown",
   "id": "7a8f2869",
   "metadata": {},
   "source": [
    "# Top 10 Happiest Countries"
   ]
  },
  {
   "cell_type": "code",
   "execution_count": null,
   "id": "4ff56669",
   "metadata": {},
   "outputs": [],
   "source": [
    "data_2017[['Country','Happiness.Rank']].head(10)"
   ]
  },
  {
   "cell_type": "markdown",
   "id": "277d789e",
   "metadata": {},
   "source": [
    "Country\tHappiness.Rank\n",
    "0\tNorway\t1\n",
    "1\tDenmark\t2\n",
    "2\tIceland\t3\n",
    "3\tSwitzerland\t4\n",
    "4\tFinland\t5\n",
    "5\tNetherlands\t6\n",
    "6\tCanada\t7\n",
    "7\tNew Zealand\t8\n",
    "8\tSweden\t9\n",
    "9\tAustralia\t10"
   ]
  }
 ],
 "metadata": {
  "kernelspec": {
   "display_name": "Python 3 (ipykernel)",
   "language": "python",
   "name": "python3"
  },
  "language_info": {
   "codemirror_mode": {
    "name": "ipython",
    "version": 3
   },
   "file_extension": ".py",
   "mimetype": "text/x-python",
   "name": "python",
   "nbconvert_exporter": "python",
   "pygments_lexer": "ipython3",
   "version": "3.9.12"
  }
 },
 "nbformat": 4,
 "nbformat_minor": 5
}
